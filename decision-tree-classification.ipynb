{
 "cells": [
  {
   "cell_type": "code",
   "execution_count": 1,
   "id": "daebb165",
   "metadata": {
    "_cell_guid": "b1076dfc-b9ad-4769-8c92-a6c4dae69d19",
    "_uuid": "8f2839f25d086af736a60e9eeb907d3b93b6e0e5",
    "execution": {
     "iopub.execute_input": "2024-07-29T08:45:25.744583Z",
     "iopub.status.busy": "2024-07-29T08:45:25.743589Z",
     "iopub.status.idle": "2024-07-29T08:45:28.121283Z",
     "shell.execute_reply": "2024-07-29T08:45:28.119922Z"
    },
    "papermill": {
     "duration": 2.393463,
     "end_time": "2024-07-29T08:45:28.123928",
     "exception": false,
     "start_time": "2024-07-29T08:45:25.730465",
     "status": "completed"
    },
    "tags": []
   },
   "outputs": [
    {
     "name": "stdout",
     "output_type": "stream",
     "text": [
      "/kaggle/input/simple-loan-classification-dataset/loan.csv\n"
     ]
    }
   ],
   "source": [
    "#Importing libraraies\n",
    "import numpy as np \n",
    "import pandas as pd\n",
    "import matplotlib.pyplot as plt\n",
    "import seaborn as sns\n",
    "\n",
    "import os\n",
    "for dirname, _, filenames in os.walk('/kaggle/input'):\n",
    "    for filename in filenames:\n",
    "        print(os.path.join(dirname, filename))\n",
    "\n"
   ]
  },
  {
   "cell_type": "code",
   "execution_count": 2,
   "id": "ee93b5a0",
   "metadata": {
    "execution": {
     "iopub.execute_input": "2024-07-29T08:45:28.143641Z",
     "iopub.status.busy": "2024-07-29T08:45:28.143104Z",
     "iopub.status.idle": "2024-07-29T08:45:28.163270Z",
     "shell.execute_reply": "2024-07-29T08:45:28.162172Z"
    },
    "papermill": {
     "duration": 0.032497,
     "end_time": "2024-07-29T08:45:28.165788",
     "exception": false,
     "start_time": "2024-07-29T08:45:28.133291",
     "status": "completed"
    },
    "tags": []
   },
   "outputs": [],
   "source": [
    "loan = pd.read_csv('/kaggle/input/simple-loan-classification-dataset/loan.csv')"
   ]
  },
  {
   "cell_type": "code",
   "execution_count": 3,
   "id": "3ac93556",
   "metadata": {
    "execution": {
     "iopub.execute_input": "2024-07-29T08:45:28.185191Z",
     "iopub.status.busy": "2024-07-29T08:45:28.184244Z",
     "iopub.status.idle": "2024-07-29T08:45:28.208350Z",
     "shell.execute_reply": "2024-07-29T08:45:28.207246Z"
    },
    "papermill": {
     "duration": 0.036572,
     "end_time": "2024-07-29T08:45:28.210924",
     "exception": false,
     "start_time": "2024-07-29T08:45:28.174352",
     "status": "completed"
    },
    "tags": []
   },
   "outputs": [
    {
     "data": {
      "text/html": [
       "<div>\n",
       "<style scoped>\n",
       "    .dataframe tbody tr th:only-of-type {\n",
       "        vertical-align: middle;\n",
       "    }\n",
       "\n",
       "    .dataframe tbody tr th {\n",
       "        vertical-align: top;\n",
       "    }\n",
       "\n",
       "    .dataframe thead th {\n",
       "        text-align: right;\n",
       "    }\n",
       "</style>\n",
       "<table border=\"1\" class=\"dataframe\">\n",
       "  <thead>\n",
       "    <tr style=\"text-align: right;\">\n",
       "      <th></th>\n",
       "      <th>age</th>\n",
       "      <th>gender</th>\n",
       "      <th>occupation</th>\n",
       "      <th>education_level</th>\n",
       "      <th>marital_status</th>\n",
       "      <th>income</th>\n",
       "      <th>credit_score</th>\n",
       "      <th>loan_status</th>\n",
       "    </tr>\n",
       "  </thead>\n",
       "  <tbody>\n",
       "    <tr>\n",
       "      <th>0</th>\n",
       "      <td>32</td>\n",
       "      <td>Male</td>\n",
       "      <td>Engineer</td>\n",
       "      <td>Bachelor's</td>\n",
       "      <td>Married</td>\n",
       "      <td>85000</td>\n",
       "      <td>720</td>\n",
       "      <td>Approved</td>\n",
       "    </tr>\n",
       "    <tr>\n",
       "      <th>1</th>\n",
       "      <td>45</td>\n",
       "      <td>Female</td>\n",
       "      <td>Teacher</td>\n",
       "      <td>Master's</td>\n",
       "      <td>Single</td>\n",
       "      <td>62000</td>\n",
       "      <td>680</td>\n",
       "      <td>Approved</td>\n",
       "    </tr>\n",
       "    <tr>\n",
       "      <th>2</th>\n",
       "      <td>28</td>\n",
       "      <td>Male</td>\n",
       "      <td>Student</td>\n",
       "      <td>High School</td>\n",
       "      <td>Single</td>\n",
       "      <td>25000</td>\n",
       "      <td>590</td>\n",
       "      <td>Denied</td>\n",
       "    </tr>\n",
       "    <tr>\n",
       "      <th>3</th>\n",
       "      <td>51</td>\n",
       "      <td>Female</td>\n",
       "      <td>Manager</td>\n",
       "      <td>Bachelor's</td>\n",
       "      <td>Married</td>\n",
       "      <td>105000</td>\n",
       "      <td>780</td>\n",
       "      <td>Approved</td>\n",
       "    </tr>\n",
       "    <tr>\n",
       "      <th>4</th>\n",
       "      <td>36</td>\n",
       "      <td>Male</td>\n",
       "      <td>Accountant</td>\n",
       "      <td>Bachelor's</td>\n",
       "      <td>Married</td>\n",
       "      <td>75000</td>\n",
       "      <td>710</td>\n",
       "      <td>Approved</td>\n",
       "    </tr>\n",
       "  </tbody>\n",
       "</table>\n",
       "</div>"
      ],
      "text/plain": [
       "   age  gender  occupation education_level marital_status  income  \\\n",
       "0   32    Male    Engineer      Bachelor's        Married   85000   \n",
       "1   45  Female     Teacher        Master's         Single   62000   \n",
       "2   28    Male     Student     High School         Single   25000   \n",
       "3   51  Female     Manager      Bachelor's        Married  105000   \n",
       "4   36    Male  Accountant      Bachelor's        Married   75000   \n",
       "\n",
       "   credit_score loan_status  \n",
       "0           720    Approved  \n",
       "1           680    Approved  \n",
       "2           590      Denied  \n",
       "3           780    Approved  \n",
       "4           710    Approved  "
      ]
     },
     "execution_count": 3,
     "metadata": {},
     "output_type": "execute_result"
    }
   ],
   "source": [
    "loan.head()"
   ]
  },
  {
   "cell_type": "markdown",
   "id": "f64b4c03",
   "metadata": {
    "papermill": {
     "duration": 0.008547,
     "end_time": "2024-07-29T08:45:28.228514",
     "exception": false,
     "start_time": "2024-07-29T08:45:28.219967",
     "status": "completed"
    },
    "tags": []
   },
   "source": [
    "In this dataset, `loan_status` is the target variable. We will use the Decision Tree Classification approach to predict whether a given person is eligible for a loan by learning decision rules inferred from the various data features."
   ]
  },
  {
   "cell_type": "markdown",
   "id": "acdb9986",
   "metadata": {
    "papermill": {
     "duration": 0.008906,
     "end_time": "2024-07-29T08:45:28.246656",
     "exception": false,
     "start_time": "2024-07-29T08:45:28.237750",
     "status": "completed"
    },
    "tags": []
   },
   "source": [
    "# Performing some EDA on the dataset"
   ]
  },
  {
   "cell_type": "code",
   "execution_count": 4,
   "id": "cc3c31a4",
   "metadata": {
    "execution": {
     "iopub.execute_input": "2024-07-29T08:45:28.267392Z",
     "iopub.status.busy": "2024-07-29T08:45:28.267031Z",
     "iopub.status.idle": "2024-07-29T08:45:28.294314Z",
     "shell.execute_reply": "2024-07-29T08:45:28.293115Z"
    },
    "papermill": {
     "duration": 0.039716,
     "end_time": "2024-07-29T08:45:28.296711",
     "exception": false,
     "start_time": "2024-07-29T08:45:28.256995",
     "status": "completed"
    },
    "tags": []
   },
   "outputs": [
    {
     "name": "stdout",
     "output_type": "stream",
     "text": [
      "<class 'pandas.core.frame.DataFrame'>\n",
      "RangeIndex: 61 entries, 0 to 60\n",
      "Data columns (total 8 columns):\n",
      " #   Column           Non-Null Count  Dtype \n",
      "---  ------           --------------  ----- \n",
      " 0   age              61 non-null     int64 \n",
      " 1   gender           61 non-null     object\n",
      " 2   occupation       61 non-null     object\n",
      " 3   education_level  61 non-null     object\n",
      " 4   marital_status   61 non-null     object\n",
      " 5   income           61 non-null     int64 \n",
      " 6   credit_score     61 non-null     int64 \n",
      " 7   loan_status      61 non-null     object\n",
      "dtypes: int64(3), object(5)\n",
      "memory usage: 3.9+ KB\n"
     ]
    }
   ],
   "source": [
    "loan.info()"
   ]
  },
  {
   "cell_type": "code",
   "execution_count": 5,
   "id": "46c1d6ad",
   "metadata": {
    "execution": {
     "iopub.execute_input": "2024-07-29T08:45:28.316755Z",
     "iopub.status.busy": "2024-07-29T08:45:28.316091Z",
     "iopub.status.idle": "2024-07-29T08:45:28.334443Z",
     "shell.execute_reply": "2024-07-29T08:45:28.333199Z"
    },
    "papermill": {
     "duration": 0.03089,
     "end_time": "2024-07-29T08:45:28.336768",
     "exception": false,
     "start_time": "2024-07-29T08:45:28.305878",
     "status": "completed"
    },
    "tags": []
   },
   "outputs": [
    {
     "data": {
      "text/html": [
       "<div>\n",
       "<style scoped>\n",
       "    .dataframe tbody tr th:only-of-type {\n",
       "        vertical-align: middle;\n",
       "    }\n",
       "\n",
       "    .dataframe tbody tr th {\n",
       "        vertical-align: top;\n",
       "    }\n",
       "\n",
       "    .dataframe thead th {\n",
       "        text-align: right;\n",
       "    }\n",
       "</style>\n",
       "<table border=\"1\" class=\"dataframe\">\n",
       "  <thead>\n",
       "    <tr style=\"text-align: right;\">\n",
       "      <th></th>\n",
       "      <th>age</th>\n",
       "      <th>gender</th>\n",
       "      <th>occupation</th>\n",
       "      <th>education_level</th>\n",
       "      <th>marital_status</th>\n",
       "      <th>income</th>\n",
       "      <th>credit_score</th>\n",
       "      <th>loan_status</th>\n",
       "    </tr>\n",
       "  </thead>\n",
       "  <tbody>\n",
       "    <tr>\n",
       "      <th>0</th>\n",
       "      <td>False</td>\n",
       "      <td>False</td>\n",
       "      <td>False</td>\n",
       "      <td>False</td>\n",
       "      <td>False</td>\n",
       "      <td>False</td>\n",
       "      <td>False</td>\n",
       "      <td>False</td>\n",
       "    </tr>\n",
       "    <tr>\n",
       "      <th>1</th>\n",
       "      <td>False</td>\n",
       "      <td>False</td>\n",
       "      <td>False</td>\n",
       "      <td>False</td>\n",
       "      <td>False</td>\n",
       "      <td>False</td>\n",
       "      <td>False</td>\n",
       "      <td>False</td>\n",
       "    </tr>\n",
       "    <tr>\n",
       "      <th>2</th>\n",
       "      <td>False</td>\n",
       "      <td>False</td>\n",
       "      <td>False</td>\n",
       "      <td>False</td>\n",
       "      <td>False</td>\n",
       "      <td>False</td>\n",
       "      <td>False</td>\n",
       "      <td>False</td>\n",
       "    </tr>\n",
       "    <tr>\n",
       "      <th>3</th>\n",
       "      <td>False</td>\n",
       "      <td>False</td>\n",
       "      <td>False</td>\n",
       "      <td>False</td>\n",
       "      <td>False</td>\n",
       "      <td>False</td>\n",
       "      <td>False</td>\n",
       "      <td>False</td>\n",
       "    </tr>\n",
       "    <tr>\n",
       "      <th>4</th>\n",
       "      <td>False</td>\n",
       "      <td>False</td>\n",
       "      <td>False</td>\n",
       "      <td>False</td>\n",
       "      <td>False</td>\n",
       "      <td>False</td>\n",
       "      <td>False</td>\n",
       "      <td>False</td>\n",
       "    </tr>\n",
       "    <tr>\n",
       "      <th>...</th>\n",
       "      <td>...</td>\n",
       "      <td>...</td>\n",
       "      <td>...</td>\n",
       "      <td>...</td>\n",
       "      <td>...</td>\n",
       "      <td>...</td>\n",
       "      <td>...</td>\n",
       "      <td>...</td>\n",
       "    </tr>\n",
       "    <tr>\n",
       "      <th>56</th>\n",
       "      <td>False</td>\n",
       "      <td>False</td>\n",
       "      <td>False</td>\n",
       "      <td>False</td>\n",
       "      <td>False</td>\n",
       "      <td>False</td>\n",
       "      <td>False</td>\n",
       "      <td>False</td>\n",
       "    </tr>\n",
       "    <tr>\n",
       "      <th>57</th>\n",
       "      <td>False</td>\n",
       "      <td>False</td>\n",
       "      <td>False</td>\n",
       "      <td>False</td>\n",
       "      <td>False</td>\n",
       "      <td>False</td>\n",
       "      <td>False</td>\n",
       "      <td>False</td>\n",
       "    </tr>\n",
       "    <tr>\n",
       "      <th>58</th>\n",
       "      <td>False</td>\n",
       "      <td>False</td>\n",
       "      <td>False</td>\n",
       "      <td>False</td>\n",
       "      <td>False</td>\n",
       "      <td>False</td>\n",
       "      <td>False</td>\n",
       "      <td>False</td>\n",
       "    </tr>\n",
       "    <tr>\n",
       "      <th>59</th>\n",
       "      <td>False</td>\n",
       "      <td>False</td>\n",
       "      <td>False</td>\n",
       "      <td>False</td>\n",
       "      <td>False</td>\n",
       "      <td>False</td>\n",
       "      <td>False</td>\n",
       "      <td>False</td>\n",
       "    </tr>\n",
       "    <tr>\n",
       "      <th>60</th>\n",
       "      <td>False</td>\n",
       "      <td>False</td>\n",
       "      <td>False</td>\n",
       "      <td>False</td>\n",
       "      <td>False</td>\n",
       "      <td>False</td>\n",
       "      <td>False</td>\n",
       "      <td>False</td>\n",
       "    </tr>\n",
       "  </tbody>\n",
       "</table>\n",
       "<p>61 rows × 8 columns</p>\n",
       "</div>"
      ],
      "text/plain": [
       "      age  gender  occupation  education_level  marital_status  income  \\\n",
       "0   False   False       False            False           False   False   \n",
       "1   False   False       False            False           False   False   \n",
       "2   False   False       False            False           False   False   \n",
       "3   False   False       False            False           False   False   \n",
       "4   False   False       False            False           False   False   \n",
       "..    ...     ...         ...              ...             ...     ...   \n",
       "56  False   False       False            False           False   False   \n",
       "57  False   False       False            False           False   False   \n",
       "58  False   False       False            False           False   False   \n",
       "59  False   False       False            False           False   False   \n",
       "60  False   False       False            False           False   False   \n",
       "\n",
       "    credit_score  loan_status  \n",
       "0          False        False  \n",
       "1          False        False  \n",
       "2          False        False  \n",
       "3          False        False  \n",
       "4          False        False  \n",
       "..           ...          ...  \n",
       "56         False        False  \n",
       "57         False        False  \n",
       "58         False        False  \n",
       "59         False        False  \n",
       "60         False        False  \n",
       "\n",
       "[61 rows x 8 columns]"
      ]
     },
     "execution_count": 5,
     "metadata": {},
     "output_type": "execute_result"
    }
   ],
   "source": [
    "loan.isnull()"
   ]
  },
  {
   "cell_type": "markdown",
   "id": "6d3682dd",
   "metadata": {
    "papermill": {
     "duration": 0.008939,
     "end_time": "2024-07-29T08:45:28.355278",
     "exception": false,
     "start_time": "2024-07-29T08:45:28.346339",
     "status": "completed"
    },
    "tags": []
   },
   "source": [
    "Hence, it is clear that there are no null values in the dataset"
   ]
  },
  {
   "cell_type": "code",
   "execution_count": 6,
   "id": "1096b516",
   "metadata": {
    "execution": {
     "iopub.execute_input": "2024-07-29T08:45:28.375613Z",
     "iopub.status.busy": "2024-07-29T08:45:28.375253Z",
     "iopub.status.idle": "2024-07-29T08:45:28.402246Z",
     "shell.execute_reply": "2024-07-29T08:45:28.401168Z"
    },
    "papermill": {
     "duration": 0.040397,
     "end_time": "2024-07-29T08:45:28.405117",
     "exception": false,
     "start_time": "2024-07-29T08:45:28.364720",
     "status": "completed"
    },
    "tags": []
   },
   "outputs": [
    {
     "data": {
      "text/html": [
       "<div>\n",
       "<style scoped>\n",
       "    .dataframe tbody tr th:only-of-type {\n",
       "        vertical-align: middle;\n",
       "    }\n",
       "\n",
       "    .dataframe tbody tr th {\n",
       "        vertical-align: top;\n",
       "    }\n",
       "\n",
       "    .dataframe thead th {\n",
       "        text-align: right;\n",
       "    }\n",
       "</style>\n",
       "<table border=\"1\" class=\"dataframe\">\n",
       "  <thead>\n",
       "    <tr style=\"text-align: right;\">\n",
       "      <th></th>\n",
       "      <th>age</th>\n",
       "      <th>income</th>\n",
       "      <th>credit_score</th>\n",
       "    </tr>\n",
       "  </thead>\n",
       "  <tbody>\n",
       "    <tr>\n",
       "      <th>count</th>\n",
       "      <td>61.000000</td>\n",
       "      <td>61.000000</td>\n",
       "      <td>61.000000</td>\n",
       "    </tr>\n",
       "    <tr>\n",
       "      <th>mean</th>\n",
       "      <td>37.081967</td>\n",
       "      <td>78983.606557</td>\n",
       "      <td>709.836066</td>\n",
       "    </tr>\n",
       "    <tr>\n",
       "      <th>std</th>\n",
       "      <td>8.424755</td>\n",
       "      <td>33772.025802</td>\n",
       "      <td>72.674888</td>\n",
       "    </tr>\n",
       "    <tr>\n",
       "      <th>min</th>\n",
       "      <td>24.000000</td>\n",
       "      <td>25000.000000</td>\n",
       "      <td>560.000000</td>\n",
       "    </tr>\n",
       "    <tr>\n",
       "      <th>25%</th>\n",
       "      <td>30.000000</td>\n",
       "      <td>52000.000000</td>\n",
       "      <td>650.000000</td>\n",
       "    </tr>\n",
       "    <tr>\n",
       "      <th>50%</th>\n",
       "      <td>36.000000</td>\n",
       "      <td>78000.000000</td>\n",
       "      <td>720.000000</td>\n",
       "    </tr>\n",
       "    <tr>\n",
       "      <th>75%</th>\n",
       "      <td>43.000000</td>\n",
       "      <td>98000.000000</td>\n",
       "      <td>770.000000</td>\n",
       "    </tr>\n",
       "    <tr>\n",
       "      <th>max</th>\n",
       "      <td>55.000000</td>\n",
       "      <td>180000.000000</td>\n",
       "      <td>830.000000</td>\n",
       "    </tr>\n",
       "  </tbody>\n",
       "</table>\n",
       "</div>"
      ],
      "text/plain": [
       "             age         income  credit_score\n",
       "count  61.000000      61.000000     61.000000\n",
       "mean   37.081967   78983.606557    709.836066\n",
       "std     8.424755   33772.025802     72.674888\n",
       "min    24.000000   25000.000000    560.000000\n",
       "25%    30.000000   52000.000000    650.000000\n",
       "50%    36.000000   78000.000000    720.000000\n",
       "75%    43.000000   98000.000000    770.000000\n",
       "max    55.000000  180000.000000    830.000000"
      ]
     },
     "execution_count": 6,
     "metadata": {},
     "output_type": "execute_result"
    }
   ],
   "source": [
    "loan.describe()"
   ]
  },
  {
   "cell_type": "markdown",
   "id": "e58906b9",
   "metadata": {
    "papermill": {
     "duration": 0.009092,
     "end_time": "2024-07-29T08:45:28.424040",
     "exception": false,
     "start_time": "2024-07-29T08:45:28.414948",
     "status": "completed"
    },
    "tags": []
   },
   "source": [
    "Here, `age` `income` and `credit_score` are the numerical attributes. So these attributes will play a significant role in determining the outcome of the decision tree."
   ]
  },
  {
   "cell_type": "markdown",
   "id": "28ecedf3",
   "metadata": {
    "papermill": {
     "duration": 0.009966,
     "end_time": "2024-07-29T08:45:28.443572",
     "exception": false,
     "start_time": "2024-07-29T08:45:28.433606",
     "status": "completed"
    },
    "tags": []
   },
   "source": [
    "# Feature Engineering \n",
    "Now, we need to find that which features in the dataset play an important role in improving the accuracy of the model. "
   ]
  },
  {
   "cell_type": "code",
   "execution_count": 7,
   "id": "4ffa885a",
   "metadata": {
    "execution": {
     "iopub.execute_input": "2024-07-29T08:45:28.465404Z",
     "iopub.status.busy": "2024-07-29T08:45:28.464956Z",
     "iopub.status.idle": "2024-07-29T08:45:28.475130Z",
     "shell.execute_reply": "2024-07-29T08:45:28.473938Z"
    },
    "papermill": {
     "duration": 0.024462,
     "end_time": "2024-07-29T08:45:28.477731",
     "exception": false,
     "start_time": "2024-07-29T08:45:28.453269",
     "status": "completed"
    },
    "tags": []
   },
   "outputs": [],
   "source": [
    "X = loan.copy()\n",
    "Y = X.pop('loan_status') # loan_status is the target attribute\n",
    "\n",
    "for colname in X.select_dtypes(\"object\"):\n",
    "    X[colname], _ = X[colname].factorize()\n",
    "\n",
    "discrete_features = X.dtypes == str    "
   ]
  },
  {
   "cell_type": "code",
   "execution_count": 8,
   "id": "b3fdd250",
   "metadata": {
    "execution": {
     "iopub.execute_input": "2024-07-29T08:45:28.499031Z",
     "iopub.status.busy": "2024-07-29T08:45:28.498620Z",
     "iopub.status.idle": "2024-07-29T08:45:29.099556Z",
     "shell.execute_reply": "2024-07-29T08:45:29.098255Z"
    },
    "papermill": {
     "duration": 0.614649,
     "end_time": "2024-07-29T08:45:29.102000",
     "exception": false,
     "start_time": "2024-07-29T08:45:28.487351",
     "status": "completed"
    },
    "tags": []
   },
   "outputs": [
    {
     "data": {
      "text/plain": [
       "credit_score       0.474234\n",
       "income             0.361446\n",
       "marital_status     0.344792\n",
       "age                0.295580\n",
       "education_level    0.210300\n",
       "occupation         0.047778\n",
       "gender             0.034951\n",
       "Name: MI Scores, dtype: float64"
      ]
     },
     "execution_count": 8,
     "metadata": {},
     "output_type": "execute_result"
    }
   ],
   "source": [
    "from sklearn.feature_selection import mutual_info_classif\n",
    "\n",
    "def make_mi_scores(X, Y, discrete_features):\n",
    "    mi_scores = mutual_info_classif(X, Y, discrete_features=discrete_features)\n",
    "    mi_scores = pd.Series(mi_scores, name=\"MI Scores\", index=X.columns)\n",
    "    mi_scores = mi_scores.sort_values(ascending=False)\n",
    "    return mi_scores\n",
    "\n",
    "mi_scores = make_mi_scores(X, Y, discrete_features)\n",
    "mi_scores[::1]  # show a few features with their MI scores\n"
   ]
  },
  {
   "cell_type": "markdown",
   "id": "a85f1b41",
   "metadata": {
    "papermill": {
     "duration": 0.009904,
     "end_time": "2024-07-29T08:45:29.121807",
     "exception": false,
     "start_time": "2024-07-29T08:45:29.111903",
     "status": "completed"
    },
    "tags": []
   },
   "source": [
    "Now, lets do some data visualisation to have a better understanding of the above scores."
   ]
  },
  {
   "cell_type": "code",
   "execution_count": 9,
   "id": "21db4bc7",
   "metadata": {
    "execution": {
     "iopub.execute_input": "2024-07-29T08:45:29.143328Z",
     "iopub.status.busy": "2024-07-29T08:45:29.142958Z",
     "iopub.status.idle": "2024-07-29T08:45:29.456596Z",
     "shell.execute_reply": "2024-07-29T08:45:29.455251Z"
    },
    "papermill": {
     "duration": 0.327474,
     "end_time": "2024-07-29T08:45:29.459582",
     "exception": false,
     "start_time": "2024-07-29T08:45:29.132108",
     "status": "completed"
    },
    "tags": []
   },
   "outputs": [
    {
     "data": {
      "image/png": "[encoded data removed]",
      "text/plain": [
       "<Figure size 800x500 with 1 Axes>"
      ]
     },
     "metadata": {},
     "output_type": "display_data"
    }
   ],
   "source": [
    "def plot_mi_scores(scores):\n",
    "    scores = scores.sort_values(ascending=True)\n",
    "    width = np.arange(len(scores))\n",
    "    ticks = list(scores.index)\n",
    "    plt.barh(width, scores)\n",
    "    plt.yticks(width, ticks)\n",
    "    plt.title(\"Mutual Information Scores\")\n",
    "\n",
    "\n",
    "plt.figure(dpi=100, figsize=(8, 5))\n",
    "plot_mi_scores(mi_scores)"
   ]
  },
  {
   "cell_type": "markdown",
   "id": "7696abdb",
   "metadata": {
    "papermill": {
     "duration": 0.010562,
     "end_time": "2024-07-29T08:45:29.480630",
     "exception": false,
     "start_time": "2024-07-29T08:45:29.470068",
     "status": "completed"
    },
    "tags": []
   },
   "source": [
    "Here, we can clearly see that `credit_score` exhibits a strong relationship with `loan_status` the target."
   ]
  },
  {
   "cell_type": "markdown",
   "id": "613a5d3a",
   "metadata": {
    "papermill": {
     "duration": 0.010238,
     "end_time": "2024-07-29T08:45:29.501412",
     "exception": false,
     "start_time": "2024-07-29T08:45:29.491174",
     "status": "completed"
    },
    "tags": []
   },
   "source": [
    "# Model Training"
   ]
  },
  {
   "cell_type": "markdown",
   "id": "05045b00",
   "metadata": {
    "papermill": {
     "duration": 0.009801,
     "end_time": "2024-07-29T08:45:29.521363",
     "exception": false,
     "start_time": "2024-07-29T08:45:29.511562",
     "status": "completed"
    },
    "tags": []
   },
   "source": [
    "First, lets construct a tree using all the features in the loan dataset."
   ]
  },
  {
   "cell_type": "code",
   "execution_count": 10,
   "id": "4385937c",
   "metadata": {
    "execution": {
     "iopub.execute_input": "2024-07-29T08:45:29.543608Z",
     "iopub.status.busy": "2024-07-29T08:45:29.543219Z",
     "iopub.status.idle": "2024-07-29T08:45:29.579341Z",
     "shell.execute_reply": "2024-07-29T08:45:29.578188Z"
    },
    "papermill": {
     "duration": 0.050473,
     "end_time": "2024-07-29T08:45:29.581877",
     "exception": false,
     "start_time": "2024-07-29T08:45:29.531404",
     "status": "completed"
    },
    "tags": []
   },
   "outputs": [
    {
     "data": {
      "text/html": [
       "<div>\n",
       "<style scoped>\n",
       "    .dataframe tbody tr th:only-of-type {\n",
       "        vertical-align: middle;\n",
       "    }\n",
       "\n",
       "    .dataframe tbody tr th {\n",
       "        vertical-align: top;\n",
       "    }\n",
       "\n",
       "    .dataframe thead th {\n",
       "        text-align: right;\n",
       "    }\n",
       "</style>\n",
       "<table border=\"1\" class=\"dataframe\">\n",
       "  <thead>\n",
       "    <tr style=\"text-align: right;\">\n",
       "      <th></th>\n",
       "      <th>age</th>\n",
       "      <th>income</th>\n",
       "      <th>credit_score</th>\n",
       "      <th>loan_status</th>\n",
       "      <th>marital_status_Married</th>\n",
       "      <th>marital_status_Single</th>\n",
       "      <th>gender_Female</th>\n",
       "      <th>gender_Male</th>\n",
       "      <th>education_level_Associate's</th>\n",
       "      <th>education_level_Bachelor's</th>\n",
       "      <th>...</th>\n",
       "      <th>occupation_Researcher</th>\n",
       "      <th>occupation_Sales</th>\n",
       "      <th>occupation_Salesman</th>\n",
       "      <th>occupation_Server</th>\n",
       "      <th>occupation_Software</th>\n",
       "      <th>occupation_Student</th>\n",
       "      <th>occupation_Stylist</th>\n",
       "      <th>occupation_Teacher</th>\n",
       "      <th>occupation_Veterinarian</th>\n",
       "      <th>occupation_Writer</th>\n",
       "    </tr>\n",
       "  </thead>\n",
       "  <tbody>\n",
       "    <tr>\n",
       "      <th>0</th>\n",
       "      <td>32</td>\n",
       "      <td>85000</td>\n",
       "      <td>720</td>\n",
       "      <td>Approved</td>\n",
       "      <td>1</td>\n",
       "      <td>0</td>\n",
       "      <td>0</td>\n",
       "      <td>1</td>\n",
       "      <td>0</td>\n",
       "      <td>1</td>\n",
       "      <td>...</td>\n",
       "      <td>0</td>\n",
       "      <td>0</td>\n",
       "      <td>0</td>\n",
       "      <td>0</td>\n",
       "      <td>0</td>\n",
       "      <td>0</td>\n",
       "      <td>0</td>\n",
       "      <td>0</td>\n",
       "      <td>0</td>\n",
       "      <td>0</td>\n",
       "    </tr>\n",
       "    <tr>\n",
       "      <th>1</th>\n",
       "      <td>45</td>\n",
       "      <td>62000</td>\n",
       "      <td>680</td>\n",
       "      <td>Approved</td>\n",
       "      <td>0</td>\n",
       "      <td>1</td>\n",
       "      <td>1</td>\n",
       "      <td>0</td>\n",
       "      <td>0</td>\n",
       "      <td>0</td>\n",
       "      <td>...</td>\n",
       "      <td>0</td>\n",
       "      <td>0</td>\n",
       "      <td>0</td>\n",
       "      <td>0</td>\n",
       "      <td>0</td>\n",
       "      <td>0</td>\n",
       "      <td>0</td>\n",
       "      <td>1</td>\n",
       "      <td>0</td>\n",
       "      <td>0</td>\n",
       "    </tr>\n",
       "    <tr>\n",
       "      <th>2</th>\n",
       "      <td>28</td>\n",
       "      <td>25000</td>\n",
       "      <td>590</td>\n",
       "      <td>Denied</td>\n",
       "      <td>0</td>\n",
       "      <td>1</td>\n",
       "      <td>0</td>\n",
       "      <td>1</td>\n",
       "      <td>0</td>\n",
       "      <td>0</td>\n",
       "      <td>...</td>\n",
       "      <td>0</td>\n",
       "      <td>0</td>\n",
       "      <td>0</td>\n",
       "      <td>0</td>\n",
       "      <td>0</td>\n",
       "      <td>1</td>\n",
       "      <td>0</td>\n",
       "      <td>0</td>\n",
       "      <td>0</td>\n",
       "      <td>0</td>\n",
       "    </tr>\n",
       "    <tr>\n",
       "      <th>3</th>\n",
       "      <td>51</td>\n",
       "      <td>105000</td>\n",
       "      <td>780</td>\n",
       "      <td>Approved</td>\n",
       "      <td>1</td>\n",
       "      <td>0</td>\n",
       "      <td>1</td>\n",
       "      <td>0</td>\n",
       "      <td>0</td>\n",
       "      <td>1</td>\n",
       "      <td>...</td>\n",
       "      <td>0</td>\n",
       "      <td>0</td>\n",
       "      <td>0</td>\n",
       "      <td>0</td>\n",
       "      <td>0</td>\n",
       "      <td>0</td>\n",
       "      <td>0</td>\n",
       "      <td>0</td>\n",
       "      <td>0</td>\n",
       "      <td>0</td>\n",
       "    </tr>\n",
       "    <tr>\n",
       "      <th>4</th>\n",
       "      <td>36</td>\n",
       "      <td>75000</td>\n",
       "      <td>710</td>\n",
       "      <td>Approved</td>\n",
       "      <td>1</td>\n",
       "      <td>0</td>\n",
       "      <td>0</td>\n",
       "      <td>1</td>\n",
       "      <td>0</td>\n",
       "      <td>1</td>\n",
       "      <td>...</td>\n",
       "      <td>0</td>\n",
       "      <td>0</td>\n",
       "      <td>0</td>\n",
       "      <td>0</td>\n",
       "      <td>0</td>\n",
       "      <td>0</td>\n",
       "      <td>0</td>\n",
       "      <td>0</td>\n",
       "      <td>0</td>\n",
       "      <td>0</td>\n",
       "    </tr>\n",
       "    <tr>\n",
       "      <th>...</th>\n",
       "      <td>...</td>\n",
       "      <td>...</td>\n",
       "      <td>...</td>\n",
       "      <td>...</td>\n",
       "      <td>...</td>\n",
       "      <td>...</td>\n",
       "      <td>...</td>\n",
       "      <td>...</td>\n",
       "      <td>...</td>\n",
       "      <td>...</td>\n",
       "      <td>...</td>\n",
       "      <td>...</td>\n",
       "      <td>...</td>\n",
       "      <td>...</td>\n",
       "      <td>...</td>\n",
       "      <td>...</td>\n",
       "      <td>...</td>\n",
       "      <td>...</td>\n",
       "      <td>...</td>\n",
       "      <td>...</td>\n",
       "      <td>...</td>\n",
       "    </tr>\n",
       "    <tr>\n",
       "      <th>56</th>\n",
       "      <td>39</td>\n",
       "      <td>100000</td>\n",
       "      <td>770</td>\n",
       "      <td>Approved</td>\n",
       "      <td>1</td>\n",
       "      <td>0</td>\n",
       "      <td>0</td>\n",
       "      <td>1</td>\n",
       "      <td>0</td>\n",
       "      <td>0</td>\n",
       "      <td>...</td>\n",
       "      <td>0</td>\n",
       "      <td>0</td>\n",
       "      <td>0</td>\n",
       "      <td>0</td>\n",
       "      <td>0</td>\n",
       "      <td>0</td>\n",
       "      <td>0</td>\n",
       "      <td>0</td>\n",
       "      <td>0</td>\n",
       "      <td>0</td>\n",
       "    </tr>\n",
       "    <tr>\n",
       "      <th>57</th>\n",
       "      <td>25</td>\n",
       "      <td>32000</td>\n",
       "      <td>570</td>\n",
       "      <td>Denied</td>\n",
       "      <td>0</td>\n",
       "      <td>1</td>\n",
       "      <td>1</td>\n",
       "      <td>0</td>\n",
       "      <td>0</td>\n",
       "      <td>0</td>\n",
       "      <td>...</td>\n",
       "      <td>0</td>\n",
       "      <td>0</td>\n",
       "      <td>0</td>\n",
       "      <td>0</td>\n",
       "      <td>0</td>\n",
       "      <td>0</td>\n",
       "      <td>0</td>\n",
       "      <td>0</td>\n",
       "      <td>0</td>\n",
       "      <td>0</td>\n",
       "    </tr>\n",
       "    <tr>\n",
       "      <th>58</th>\n",
       "      <td>43</td>\n",
       "      <td>95000</td>\n",
       "      <td>760</td>\n",
       "      <td>Approved</td>\n",
       "      <td>1</td>\n",
       "      <td>0</td>\n",
       "      <td>0</td>\n",
       "      <td>1</td>\n",
       "      <td>0</td>\n",
       "      <td>1</td>\n",
       "      <td>...</td>\n",
       "      <td>0</td>\n",
       "      <td>0</td>\n",
       "      <td>0</td>\n",
       "      <td>0</td>\n",
       "      <td>0</td>\n",
       "      <td>0</td>\n",
       "      <td>0</td>\n",
       "      <td>0</td>\n",
       "      <td>0</td>\n",
       "      <td>0</td>\n",
       "    </tr>\n",
       "    <tr>\n",
       "      <th>59</th>\n",
       "      <td>30</td>\n",
       "      <td>55000</td>\n",
       "      <td>650</td>\n",
       "      <td>Approved</td>\n",
       "      <td>0</td>\n",
       "      <td>1</td>\n",
       "      <td>1</td>\n",
       "      <td>0</td>\n",
       "      <td>0</td>\n",
       "      <td>0</td>\n",
       "      <td>...</td>\n",
       "      <td>0</td>\n",
       "      <td>0</td>\n",
       "      <td>0</td>\n",
       "      <td>0</td>\n",
       "      <td>0</td>\n",
       "      <td>0</td>\n",
       "      <td>0</td>\n",
       "      <td>0</td>\n",
       "      <td>0</td>\n",
       "      <td>1</td>\n",
       "    </tr>\n",
       "    <tr>\n",
       "      <th>60</th>\n",
       "      <td>38</td>\n",
       "      <td>65000</td>\n",
       "      <td>700</td>\n",
       "      <td>Approved</td>\n",
       "      <td>1</td>\n",
       "      <td>0</td>\n",
       "      <td>0</td>\n",
       "      <td>1</td>\n",
       "      <td>1</td>\n",
       "      <td>0</td>\n",
       "      <td>...</td>\n",
       "      <td>0</td>\n",
       "      <td>0</td>\n",
       "      <td>0</td>\n",
       "      <td>0</td>\n",
       "      <td>0</td>\n",
       "      <td>0</td>\n",
       "      <td>0</td>\n",
       "      <td>0</td>\n",
       "      <td>0</td>\n",
       "      <td>0</td>\n",
       "    </tr>\n",
       "  </tbody>\n",
       "</table>\n",
       "<p>61 rows × 51 columns</p>\n",
       "</div>"
      ],
      "text/plain": [
       "    age  income  credit_score loan_status  marital_status_Married  \\\n",
       "0    32   85000           720    Approved                       1   \n",
       "1    45   62000           680    Approved                       0   \n",
       "2    28   25000           590      Denied                       0   \n",
       "3    51  105000           780    Approved                       1   \n",
       "4    36   75000           710    Approved                       1   \n",
       "..  ...     ...           ...         ...                     ...   \n",
       "56   39  100000           770    Approved                       1   \n",
       "57   25   32000           570      Denied                       0   \n",
       "58   43   95000           760    Approved                       1   \n",
       "59   30   55000           650    Approved                       0   \n",
       "60   38   65000           700    Approved                       1   \n",
       "\n",
       "    marital_status_Single  gender_Female  gender_Male  \\\n",
       "0                       0              0            1   \n",
       "1                       1              1            0   \n",
       "2                       1              0            1   \n",
       "3                       0              1            0   \n",
       "4                       0              0            1   \n",
       "..                    ...            ...          ...   \n",
       "56                      0              0            1   \n",
       "57                      1              1            0   \n",
       "58                      0              0            1   \n",
       "59                      1              1            0   \n",
       "60                      0              0            1   \n",
       "\n",
       "    education_level_Associate's  education_level_Bachelor's  ...  \\\n",
       "0                             0                           1  ...   \n",
       "1                             0                           0  ...   \n",
       "2                             0                           0  ...   \n",
       "3                             0                           1  ...   \n",
       "4                             0                           1  ...   \n",
       "..                          ...                         ...  ...   \n",
       "56                            0                           0  ...   \n",
       "57                            0                           0  ...   \n",
       "58                            0                           1  ...   \n",
       "59                            0                           0  ...   \n",
       "60                            1                           0  ...   \n",
       "\n",
       "    occupation_Researcher  occupation_Sales  occupation_Salesman  \\\n",
       "0                       0                 0                    0   \n",
       "1                       0                 0                    0   \n",
       "2                       0                 0                    0   \n",
       "3                       0                 0                    0   \n",
       "4                       0                 0                    0   \n",
       "..                    ...               ...                  ...   \n",
       "56                      0                 0                    0   \n",
       "57                      0                 0                    0   \n",
       "58                      0                 0                    0   \n",
       "59                      0                 0                    0   \n",
       "60                      0                 0                    0   \n",
       "\n",
       "    occupation_Server  occupation_Software  occupation_Student  \\\n",
       "0                   0                    0                   0   \n",
       "1                   0                    0                   0   \n",
       "2                   0                    0                   1   \n",
       "3                   0                    0                   0   \n",
       "4                   0                    0                   0   \n",
       "..                ...                  ...                 ...   \n",
       "56                  0                    0                   0   \n",
       "57                  0                    0                   0   \n",
       "58                  0                    0                   0   \n",
       "59                  0                    0                   0   \n",
       "60                  0                    0                   0   \n",
       "\n",
       "    occupation_Stylist  occupation_Teacher  occupation_Veterinarian  \\\n",
       "0                    0                   0                        0   \n",
       "1                    0                   1                        0   \n",
       "2                    0                   0                        0   \n",
       "3                    0                   0                        0   \n",
       "4                    0                   0                        0   \n",
       "..                 ...                 ...                      ...   \n",
       "56                   0                   0                        0   \n",
       "57                   0                   0                        0   \n",
       "58                   0                   0                        0   \n",
       "59                   0                   0                        0   \n",
       "60                   0                   0                        0   \n",
       "\n",
       "    occupation_Writer  \n",
       "0                   0  \n",
       "1                   0  \n",
       "2                   0  \n",
       "3                   0  \n",
       "4                   0  \n",
       "..                ...  \n",
       "56                  0  \n",
       "57                  0  \n",
       "58                  0  \n",
       "59                  1  \n",
       "60                  0  \n",
       "\n",
       "[61 rows x 51 columns]"
      ]
     },
     "execution_count": 10,
     "metadata": {},
     "output_type": "execute_result"
    }
   ],
   "source": [
    "#Encoding the categorical features\n",
    "\n",
    "df_encoded = pd.get_dummies(loan, columns=[ 'marital_status','gender','education_level','occupation'], dtype = int)\n",
    "df_encoded"
   ]
  },
  {
   "cell_type": "code",
   "execution_count": 11,
   "id": "92209d41",
   "metadata": {
    "execution": {
     "iopub.execute_input": "2024-07-29T08:45:29.605337Z",
     "iopub.status.busy": "2024-07-29T08:45:29.604923Z",
     "iopub.status.idle": "2024-07-29T08:45:29.656034Z",
     "shell.execute_reply": "2024-07-29T08:45:29.654871Z"
    },
    "papermill": {
     "duration": 0.065959,
     "end_time": "2024-07-29T08:45:29.658720",
     "exception": false,
     "start_time": "2024-07-29T08:45:29.592761",
     "status": "completed"
    },
    "tags": []
   },
   "outputs": [],
   "source": [
    "from sklearn.model_selection import train_test_split\n",
    "from sklearn.tree import DecisionTreeClassifier, plot_tree\n",
    "\n",
    "x = df_encoded.drop('loan_status', axis = 1)\n",
    "y = df_encoded['loan_status']\n",
    "\n",
    "X_train, X_test, y_train, y_test = train_test_split(x, y, test_size=.1, random_state=42)\n",
    " \n",
    "clf = DecisionTreeClassifier(criterion='gini',max_depth = 5, min_samples_leaf=4 )\n",
    "clf = clf.fit(X_train, y_train)\n"
   ]
  },
  {
   "cell_type": "code",
   "execution_count": 12,
   "id": "dd9dbff8",
   "metadata": {
    "execution": {
     "iopub.execute_input": "2024-07-29T08:45:29.681872Z",
     "iopub.status.busy": "2024-07-29T08:45:29.681369Z",
     "iopub.status.idle": "2024-07-29T08:45:29.991448Z",
     "shell.execute_reply": "2024-07-29T08:45:29.989793Z"
    },
    "papermill": {
     "duration": 0.324657,
     "end_time": "2024-07-29T08:45:29.994130",
     "exception": false,
     "start_time": "2024-07-29T08:45:29.669473",
     "status": "completed"
    },
    "tags": []
   },
   "outputs": [
    {
     "data": {
      "image/png": "[encoded data removed]",
      "text/plain": [
       "<Figure size 2000x1000 with 1 Axes>"
      ]
     },
     "metadata": {},
     "output_type": "display_data"
    }
   ],
   "source": [
    "def plot_decision_tree(model, feature_names, class_names):\n",
    "    tree = plot_tree(model, feature_names = feature_names, class_names = class_names,\n",
    "                     rounded = True, proportion = True, precision = 2, filled = True, fontsize=10)\n",
    "    \n",
    "    return tree\n",
    "\n",
    "plt.figure(figsize=(20,10))\n",
    "plot_decision_tree(clf, x.columns, clf.classes_)\n",
    "plt.show()"
   ]
  },
  {
   "cell_type": "markdown",
   "id": "69ba13cb",
   "metadata": {
    "papermill": {
     "duration": 0.013149,
     "end_time": "2024-07-29T08:45:30.019662",
     "exception": false,
     "start_time": "2024-07-29T08:45:30.006513",
     "status": "completed"
    },
    "tags": []
   },
   "source": [
    "Here, `income` is the root-node of the tree and there are 2 leaf-nodes."
   ]
  },
  {
   "cell_type": "code",
   "execution_count": 13,
   "id": "67b7e57e",
   "metadata": {
    "execution": {
     "iopub.execute_input": "2024-07-29T08:45:30.046321Z",
     "iopub.status.busy": "2024-07-29T08:45:30.045909Z",
     "iopub.status.idle": "2024-07-29T08:45:30.052894Z",
     "shell.execute_reply": "2024-07-29T08:45:30.051736Z"
    },
    "papermill": {
     "duration": 0.023835,
     "end_time": "2024-07-29T08:45:30.055410",
     "exception": false,
     "start_time": "2024-07-29T08:45:30.031575",
     "status": "completed"
    },
    "tags": []
   },
   "outputs": [],
   "source": [
    "X_test = df_encoded.drop('loan_status', axis=1)\n",
    "y_test = df_encoded.loan_status"
   ]
  },
  {
   "cell_type": "code",
   "execution_count": 14,
   "id": "58cc3a5b",
   "metadata": {
    "execution": {
     "iopub.execute_input": "2024-07-29T08:45:30.080624Z",
     "iopub.status.busy": "2024-07-29T08:45:30.079763Z",
     "iopub.status.idle": "2024-07-29T08:45:30.087330Z",
     "shell.execute_reply": "2024-07-29T08:45:30.086266Z"
    },
    "papermill": {
     "duration": 0.022674,
     "end_time": "2024-07-29T08:45:30.089723",
     "exception": false,
     "start_time": "2024-07-29T08:45:30.067049",
     "status": "completed"
    },
    "tags": []
   },
   "outputs": [
    {
     "data": {
      "text/plain": [
       "Index(['age', 'income', 'credit_score', 'loan_status',\n",
       "       'marital_status_Married', 'marital_status_Single', 'gender_Female',\n",
       "       'gender_Male', 'education_level_Associate's',\n",
       "       'education_level_Bachelor's', 'education_level_Doctoral',\n",
       "       'education_level_High School', 'education_level_Master's',\n",
       "       'occupation_Accountant', 'occupation_Analyst', 'occupation_Architect',\n",
       "       'occupation_Artist', 'occupation_Banker', 'occupation_Chef',\n",
       "       'occupation_Consultant', 'occupation_Dentist', 'occupation_Designer',\n",
       "       'occupation_Doctor', 'occupation_Editor', 'occupation_Electrician',\n",
       "       'occupation_Engineer', 'occupation_HR', 'occupation_IT',\n",
       "       'occupation_Lawyer', 'occupation_Manager', 'occupation_Marketing',\n",
       "       'occupation_Musician', 'occupation_Nurse', 'occupation_Pharmacist',\n",
       "       'occupation_Photographer', 'occupation_Pilot', 'occupation_Professor',\n",
       "       'occupation_Programmer', 'occupation_Psychologist',\n",
       "       'occupation_Realtor', 'occupation_Receptionist',\n",
       "       'occupation_Researcher', 'occupation_Sales', 'occupation_Salesman',\n",
       "       'occupation_Server', 'occupation_Software', 'occupation_Student',\n",
       "       'occupation_Stylist', 'occupation_Teacher', 'occupation_Veterinarian',\n",
       "       'occupation_Writer'],\n",
       "      dtype='object')"
      ]
     },
     "execution_count": 14,
     "metadata": {},
     "output_type": "execute_result"
    }
   ],
   "source": [
    "df_encoded.columns"
   ]
  },
  {
   "cell_type": "code",
   "execution_count": 15,
   "id": "f3ff8f90",
   "metadata": {
    "execution": {
     "iopub.execute_input": "2024-07-29T08:45:30.114723Z",
     "iopub.status.busy": "2024-07-29T08:45:30.114331Z",
     "iopub.status.idle": "2024-07-29T08:45:30.121911Z",
     "shell.execute_reply": "2024-07-29T08:45:30.120813Z"
    },
    "papermill": {
     "duration": 0.022894,
     "end_time": "2024-07-29T08:45:30.124341",
     "exception": false,
     "start_time": "2024-07-29T08:45:30.101447",
     "status": "completed"
    },
    "tags": []
   },
   "outputs": [],
   "source": [
    "y_pred = clf.predict(X_test)"
   ]
  },
  {
   "cell_type": "code",
   "execution_count": 16,
   "id": "8f8977fd",
   "metadata": {
    "execution": {
     "iopub.execute_input": "2024-07-29T08:45:30.149807Z",
     "iopub.status.busy": "2024-07-29T08:45:30.148880Z",
     "iopub.status.idle": "2024-07-29T08:45:30.161587Z",
     "shell.execute_reply": "2024-07-29T08:45:30.160484Z"
    },
    "papermill": {
     "duration": 0.027964,
     "end_time": "2024-07-29T08:45:30.163925",
     "exception": false,
     "start_time": "2024-07-29T08:45:30.135961",
     "status": "completed"
    },
    "tags": []
   },
   "outputs": [
    {
     "data": {
      "text/html": [
       "<div>\n",
       "<style scoped>\n",
       "    .dataframe tbody tr th:only-of-type {\n",
       "        vertical-align: middle;\n",
       "    }\n",
       "\n",
       "    .dataframe tbody tr th {\n",
       "        vertical-align: top;\n",
       "    }\n",
       "\n",
       "    .dataframe thead th {\n",
       "        text-align: right;\n",
       "    }\n",
       "</style>\n",
       "<table border=\"1\" class=\"dataframe\">\n",
       "  <thead>\n",
       "    <tr style=\"text-align: right;\">\n",
       "      <th></th>\n",
       "      <th>Predicted</th>\n",
       "      <th>Actual</th>\n",
       "    </tr>\n",
       "  </thead>\n",
       "  <tbody>\n",
       "    <tr>\n",
       "      <th>0</th>\n",
       "      <td>Approved</td>\n",
       "      <td>Approved</td>\n",
       "    </tr>\n",
       "    <tr>\n",
       "      <th>1</th>\n",
       "      <td>Approved</td>\n",
       "      <td>Approved</td>\n",
       "    </tr>\n",
       "    <tr>\n",
       "      <th>2</th>\n",
       "      <td>Denied</td>\n",
       "      <td>Denied</td>\n",
       "    </tr>\n",
       "    <tr>\n",
       "      <th>3</th>\n",
       "      <td>Approved</td>\n",
       "      <td>Approved</td>\n",
       "    </tr>\n",
       "    <tr>\n",
       "      <th>4</th>\n",
       "      <td>Approved</td>\n",
       "      <td>Approved</td>\n",
       "    </tr>\n",
       "    <tr>\n",
       "      <th>...</th>\n",
       "      <td>...</td>\n",
       "      <td>...</td>\n",
       "    </tr>\n",
       "    <tr>\n",
       "      <th>56</th>\n",
       "      <td>Approved</td>\n",
       "      <td>Approved</td>\n",
       "    </tr>\n",
       "    <tr>\n",
       "      <th>57</th>\n",
       "      <td>Denied</td>\n",
       "      <td>Denied</td>\n",
       "    </tr>\n",
       "    <tr>\n",
       "      <th>58</th>\n",
       "      <td>Approved</td>\n",
       "      <td>Approved</td>\n",
       "    </tr>\n",
       "    <tr>\n",
       "      <th>59</th>\n",
       "      <td>Approved</td>\n",
       "      <td>Approved</td>\n",
       "    </tr>\n",
       "    <tr>\n",
       "      <th>60</th>\n",
       "      <td>Approved</td>\n",
       "      <td>Approved</td>\n",
       "    </tr>\n",
       "  </tbody>\n",
       "</table>\n",
       "<p>61 rows × 2 columns</p>\n",
       "</div>"
      ],
      "text/plain": [
       "   Predicted    Actual\n",
       "0   Approved  Approved\n",
       "1   Approved  Approved\n",
       "2     Denied    Denied\n",
       "3   Approved  Approved\n",
       "4   Approved  Approved\n",
       "..       ...       ...\n",
       "56  Approved  Approved\n",
       "57    Denied    Denied\n",
       "58  Approved  Approved\n",
       "59  Approved  Approved\n",
       "60  Approved  Approved\n",
       "\n",
       "[61 rows x 2 columns]"
      ]
     },
     "execution_count": 16,
     "metadata": {},
     "output_type": "execute_result"
    }
   ],
   "source": [
    "results = pd.DataFrame({\n",
    "    'Predicted': y_pred,\n",
    "    'Actual': y_test\n",
    "})\n",
    "\n",
    "results"
   ]
  },
  {
   "cell_type": "markdown",
   "id": "ff3a603c",
   "metadata": {
    "papermill": {
     "duration": 0.011624,
     "end_time": "2024-07-29T08:45:30.187444",
     "exception": false,
     "start_time": "2024-07-29T08:45:30.175820",
     "status": "completed"
    },
    "tags": []
   },
   "source": [
    "**Performance Metrics**"
   ]
  },
  {
   "cell_type": "code",
   "execution_count": 17,
   "id": "d2314bbf",
   "metadata": {
    "execution": {
     "iopub.execute_input": "2024-07-29T08:45:30.212915Z",
     "iopub.status.busy": "2024-07-29T08:45:30.212529Z",
     "iopub.status.idle": "2024-07-29T08:45:30.222095Z",
     "shell.execute_reply": "2024-07-29T08:45:30.220941Z"
    },
    "papermill": {
     "duration": 0.025053,
     "end_time": "2024-07-29T08:45:30.224482",
     "exception": false,
     "start_time": "2024-07-29T08:45:30.199429",
     "status": "completed"
    },
    "tags": []
   },
   "outputs": [
    {
     "data": {
      "text/plain": [
       "array([[45,  0],\n",
       "       [ 0, 16]])"
      ]
     },
     "execution_count": 17,
     "metadata": {},
     "output_type": "execute_result"
    }
   ],
   "source": [
    "from sklearn.metrics import confusion_matrix\n",
    "\n",
    "conf_matrix = confusion_matrix(y_test, y_pred)\n",
    "conf_matrix"
   ]
  },
  {
   "cell_type": "code",
   "execution_count": 18,
   "id": "971bc30f",
   "metadata": {
    "execution": {
     "iopub.execute_input": "2024-07-29T08:45:30.251805Z",
     "iopub.status.busy": "2024-07-29T08:45:30.251374Z",
     "iopub.status.idle": "2024-07-29T08:45:30.268684Z",
     "shell.execute_reply": "2024-07-29T08:45:30.267214Z"
    },
    "papermill": {
     "duration": 0.034359,
     "end_time": "2024-07-29T08:45:30.271415",
     "exception": false,
     "start_time": "2024-07-29T08:45:30.237056",
     "status": "completed"
    },
    "tags": []
   },
   "outputs": [
    {
     "name": "stdout",
     "output_type": "stream",
     "text": [
      "              precision    recall  f1-score   support\n",
      "\n",
      "    Approved       1.00      1.00      1.00        45\n",
      "      Denied       1.00      1.00      1.00        16\n",
      "\n",
      "    accuracy                           1.00        61\n",
      "   macro avg       1.00      1.00      1.00        61\n",
      "weighted avg       1.00      1.00      1.00        61\n",
      "\n"
     ]
    }
   ],
   "source": [
    "from sklearn.metrics import classification_report\n",
    "\n",
    "report = classification_report(y_test, y_pred)\n",
    "print(report)"
   ]
  },
  {
   "cell_type": "markdown",
   "id": "514242b3",
   "metadata": {
    "papermill": {
     "duration": 0.011959,
     "end_time": "2024-07-29T08:45:30.297087",
     "exception": false,
     "start_time": "2024-07-29T08:45:30.285128",
     "status": "completed"
    },
    "tags": []
   },
   "source": [
    "Now,according to the classification report above,the model turns out to be 100% accurate which seems quite weird. This leads us to the problem of overfitting which is quite common incase of Decision Trees. \n",
    "\n",
    "Hence,now we will train our model on fewer features and we will select those features based on the `Feature Engineering` we had performed earlier."
   ]
  },
  {
   "cell_type": "markdown",
   "id": "e86e26a1",
   "metadata": {
    "papermill": {
     "duration": 0.011729,
     "end_time": "2024-07-29T08:45:30.321070",
     "exception": false,
     "start_time": "2024-07-29T08:45:30.309341",
     "status": "completed"
    },
    "tags": []
   },
   "source": [
    "# Training the model with selective features"
   ]
  },
  {
   "cell_type": "code",
   "execution_count": 19,
   "id": "e872b38d",
   "metadata": {
    "execution": {
     "iopub.execute_input": "2024-07-29T08:45:30.346775Z",
     "iopub.status.busy": "2024-07-29T08:45:30.346350Z",
     "iopub.status.idle": "2024-07-29T08:45:30.361358Z",
     "shell.execute_reply": "2024-07-29T08:45:30.360283Z"
    },
    "papermill": {
     "duration": 0.030722,
     "end_time": "2024-07-29T08:45:30.363884",
     "exception": false,
     "start_time": "2024-07-29T08:45:30.333162",
     "status": "completed"
    },
    "tags": []
   },
   "outputs": [
    {
     "data": {
      "text/html": [
       "<div>\n",
       "<style scoped>\n",
       "    .dataframe tbody tr th:only-of-type {\n",
       "        vertical-align: middle;\n",
       "    }\n",
       "\n",
       "    .dataframe tbody tr th {\n",
       "        vertical-align: top;\n",
       "    }\n",
       "\n",
       "    .dataframe thead th {\n",
       "        text-align: right;\n",
       "    }\n",
       "</style>\n",
       "<table border=\"1\" class=\"dataframe\">\n",
       "  <thead>\n",
       "    <tr style=\"text-align: right;\">\n",
       "      <th></th>\n",
       "      <th>age</th>\n",
       "      <th>marital_status</th>\n",
       "      <th>income</th>\n",
       "      <th>credit_score</th>\n",
       "      <th>loan_status</th>\n",
       "    </tr>\n",
       "  </thead>\n",
       "  <tbody>\n",
       "    <tr>\n",
       "      <th>0</th>\n",
       "      <td>32</td>\n",
       "      <td>Married</td>\n",
       "      <td>85000</td>\n",
       "      <td>720</td>\n",
       "      <td>Approved</td>\n",
       "    </tr>\n",
       "    <tr>\n",
       "      <th>1</th>\n",
       "      <td>45</td>\n",
       "      <td>Single</td>\n",
       "      <td>62000</td>\n",
       "      <td>680</td>\n",
       "      <td>Approved</td>\n",
       "    </tr>\n",
       "    <tr>\n",
       "      <th>2</th>\n",
       "      <td>28</td>\n",
       "      <td>Single</td>\n",
       "      <td>25000</td>\n",
       "      <td>590</td>\n",
       "      <td>Denied</td>\n",
       "    </tr>\n",
       "    <tr>\n",
       "      <th>3</th>\n",
       "      <td>51</td>\n",
       "      <td>Married</td>\n",
       "      <td>105000</td>\n",
       "      <td>780</td>\n",
       "      <td>Approved</td>\n",
       "    </tr>\n",
       "    <tr>\n",
       "      <th>4</th>\n",
       "      <td>36</td>\n",
       "      <td>Married</td>\n",
       "      <td>75000</td>\n",
       "      <td>710</td>\n",
       "      <td>Approved</td>\n",
       "    </tr>\n",
       "    <tr>\n",
       "      <th>...</th>\n",
       "      <td>...</td>\n",
       "      <td>...</td>\n",
       "      <td>...</td>\n",
       "      <td>...</td>\n",
       "      <td>...</td>\n",
       "    </tr>\n",
       "    <tr>\n",
       "      <th>56</th>\n",
       "      <td>39</td>\n",
       "      <td>Married</td>\n",
       "      <td>100000</td>\n",
       "      <td>770</td>\n",
       "      <td>Approved</td>\n",
       "    </tr>\n",
       "    <tr>\n",
       "      <th>57</th>\n",
       "      <td>25</td>\n",
       "      <td>Single</td>\n",
       "      <td>32000</td>\n",
       "      <td>570</td>\n",
       "      <td>Denied</td>\n",
       "    </tr>\n",
       "    <tr>\n",
       "      <th>58</th>\n",
       "      <td>43</td>\n",
       "      <td>Married</td>\n",
       "      <td>95000</td>\n",
       "      <td>760</td>\n",
       "      <td>Approved</td>\n",
       "    </tr>\n",
       "    <tr>\n",
       "      <th>59</th>\n",
       "      <td>30</td>\n",
       "      <td>Single</td>\n",
       "      <td>55000</td>\n",
       "      <td>650</td>\n",
       "      <td>Approved</td>\n",
       "    </tr>\n",
       "    <tr>\n",
       "      <th>60</th>\n",
       "      <td>38</td>\n",
       "      <td>Married</td>\n",
       "      <td>65000</td>\n",
       "      <td>700</td>\n",
       "      <td>Approved</td>\n",
       "    </tr>\n",
       "  </tbody>\n",
       "</table>\n",
       "<p>61 rows × 5 columns</p>\n",
       "</div>"
      ],
      "text/plain": [
       "    age marital_status  income  credit_score loan_status\n",
       "0    32        Married   85000           720    Approved\n",
       "1    45         Single   62000           680    Approved\n",
       "2    28         Single   25000           590      Denied\n",
       "3    51        Married  105000           780    Approved\n",
       "4    36        Married   75000           710    Approved\n",
       "..  ...            ...     ...           ...         ...\n",
       "56   39        Married  100000           770    Approved\n",
       "57   25         Single   32000           570      Denied\n",
       "58   43        Married   95000           760    Approved\n",
       "59   30         Single   55000           650    Approved\n",
       "60   38        Married   65000           700    Approved\n",
       "\n",
       "[61 rows x 5 columns]"
      ]
     },
     "execution_count": 19,
     "metadata": {},
     "output_type": "execute_result"
    }
   ],
   "source": [
    "loan_test = loan.drop(columns =['education_level', 'gender', 'occupation'])\n",
    "loan_test\n"
   ]
  },
  {
   "cell_type": "code",
   "execution_count": 20,
   "id": "a1776a64",
   "metadata": {
    "execution": {
     "iopub.execute_input": "2024-07-29T08:45:30.391369Z",
     "iopub.status.busy": "2024-07-29T08:45:30.390970Z",
     "iopub.status.idle": "2024-07-29T08:45:30.408441Z",
     "shell.execute_reply": "2024-07-29T08:45:30.407162Z"
    },
    "papermill": {
     "duration": 0.034297,
     "end_time": "2024-07-29T08:45:30.411117",
     "exception": false,
     "start_time": "2024-07-29T08:45:30.376820",
     "status": "completed"
    },
    "tags": []
   },
   "outputs": [
    {
     "data": {
      "text/html": [
       "<div>\n",
       "<style scoped>\n",
       "    .dataframe tbody tr th:only-of-type {\n",
       "        vertical-align: middle;\n",
       "    }\n",
       "\n",
       "    .dataframe tbody tr th {\n",
       "        vertical-align: top;\n",
       "    }\n",
       "\n",
       "    .dataframe thead th {\n",
       "        text-align: right;\n",
       "    }\n",
       "</style>\n",
       "<table border=\"1\" class=\"dataframe\">\n",
       "  <thead>\n",
       "    <tr style=\"text-align: right;\">\n",
       "      <th></th>\n",
       "      <th>age</th>\n",
       "      <th>income</th>\n",
       "      <th>credit_score</th>\n",
       "      <th>loan_status</th>\n",
       "      <th>marital_status_Married</th>\n",
       "      <th>marital_status_Single</th>\n",
       "    </tr>\n",
       "  </thead>\n",
       "  <tbody>\n",
       "    <tr>\n",
       "      <th>0</th>\n",
       "      <td>32</td>\n",
       "      <td>85000</td>\n",
       "      <td>720</td>\n",
       "      <td>Approved</td>\n",
       "      <td>1</td>\n",
       "      <td>0</td>\n",
       "    </tr>\n",
       "    <tr>\n",
       "      <th>1</th>\n",
       "      <td>45</td>\n",
       "      <td>62000</td>\n",
       "      <td>680</td>\n",
       "      <td>Approved</td>\n",
       "      <td>0</td>\n",
       "      <td>1</td>\n",
       "    </tr>\n",
       "    <tr>\n",
       "      <th>2</th>\n",
       "      <td>28</td>\n",
       "      <td>25000</td>\n",
       "      <td>590</td>\n",
       "      <td>Denied</td>\n",
       "      <td>0</td>\n",
       "      <td>1</td>\n",
       "    </tr>\n",
       "    <tr>\n",
       "      <th>3</th>\n",
       "      <td>51</td>\n",
       "      <td>105000</td>\n",
       "      <td>780</td>\n",
       "      <td>Approved</td>\n",
       "      <td>1</td>\n",
       "      <td>0</td>\n",
       "    </tr>\n",
       "    <tr>\n",
       "      <th>4</th>\n",
       "      <td>36</td>\n",
       "      <td>75000</td>\n",
       "      <td>710</td>\n",
       "      <td>Approved</td>\n",
       "      <td>1</td>\n",
       "      <td>0</td>\n",
       "    </tr>\n",
       "    <tr>\n",
       "      <th>...</th>\n",
       "      <td>...</td>\n",
       "      <td>...</td>\n",
       "      <td>...</td>\n",
       "      <td>...</td>\n",
       "      <td>...</td>\n",
       "      <td>...</td>\n",
       "    </tr>\n",
       "    <tr>\n",
       "      <th>56</th>\n",
       "      <td>39</td>\n",
       "      <td>100000</td>\n",
       "      <td>770</td>\n",
       "      <td>Approved</td>\n",
       "      <td>1</td>\n",
       "      <td>0</td>\n",
       "    </tr>\n",
       "    <tr>\n",
       "      <th>57</th>\n",
       "      <td>25</td>\n",
       "      <td>32000</td>\n",
       "      <td>570</td>\n",
       "      <td>Denied</td>\n",
       "      <td>0</td>\n",
       "      <td>1</td>\n",
       "    </tr>\n",
       "    <tr>\n",
       "      <th>58</th>\n",
       "      <td>43</td>\n",
       "      <td>95000</td>\n",
       "      <td>760</td>\n",
       "      <td>Approved</td>\n",
       "      <td>1</td>\n",
       "      <td>0</td>\n",
       "    </tr>\n",
       "    <tr>\n",
       "      <th>59</th>\n",
       "      <td>30</td>\n",
       "      <td>55000</td>\n",
       "      <td>650</td>\n",
       "      <td>Approved</td>\n",
       "      <td>0</td>\n",
       "      <td>1</td>\n",
       "    </tr>\n",
       "    <tr>\n",
       "      <th>60</th>\n",
       "      <td>38</td>\n",
       "      <td>65000</td>\n",
       "      <td>700</td>\n",
       "      <td>Approved</td>\n",
       "      <td>1</td>\n",
       "      <td>0</td>\n",
       "    </tr>\n",
       "  </tbody>\n",
       "</table>\n",
       "<p>61 rows × 6 columns</p>\n",
       "</div>"
      ],
      "text/plain": [
       "    age  income  credit_score loan_status  marital_status_Married  \\\n",
       "0    32   85000           720    Approved                       1   \n",
       "1    45   62000           680    Approved                       0   \n",
       "2    28   25000           590      Denied                       0   \n",
       "3    51  105000           780    Approved                       1   \n",
       "4    36   75000           710    Approved                       1   \n",
       "..  ...     ...           ...         ...                     ...   \n",
       "56   39  100000           770    Approved                       1   \n",
       "57   25   32000           570      Denied                       0   \n",
       "58   43   95000           760    Approved                       1   \n",
       "59   30   55000           650    Approved                       0   \n",
       "60   38   65000           700    Approved                       1   \n",
       "\n",
       "    marital_status_Single  \n",
       "0                       0  \n",
       "1                       1  \n",
       "2                       1  \n",
       "3                       0  \n",
       "4                       0  \n",
       "..                    ...  \n",
       "56                      0  \n",
       "57                      1  \n",
       "58                      0  \n",
       "59                      1  \n",
       "60                      0  \n",
       "\n",
       "[61 rows x 6 columns]"
      ]
     },
     "execution_count": 20,
     "metadata": {},
     "output_type": "execute_result"
    }
   ],
   "source": [
    "loan_test_encoded = pd.get_dummies(loan_test, columns=['marital_status'], dtype = int)\n",
    "loan_test_encoded"
   ]
  },
  {
   "cell_type": "code",
   "execution_count": 21,
   "id": "5b7f7607",
   "metadata": {
    "execution": {
     "iopub.execute_input": "2024-07-29T08:45:30.439279Z",
     "iopub.status.busy": "2024-07-29T08:45:30.438903Z",
     "iopub.status.idle": "2024-07-29T08:45:30.451644Z",
     "shell.execute_reply": "2024-07-29T08:45:30.450302Z"
    },
    "papermill": {
     "duration": 0.030447,
     "end_time": "2024-07-29T08:45:30.454780",
     "exception": false,
     "start_time": "2024-07-29T08:45:30.424333",
     "status": "completed"
    },
    "tags": []
   },
   "outputs": [],
   "source": [
    "a = loan_test_encoded.drop('loan_status', axis = 1)\n",
    "b = loan_test_encoded['loan_status']\n",
    "\n",
    "a_train, b_test, b_train, a_test = train_test_split(a, b, test_size=.2, random_state=42)\n",
    " \n",
    "new_clf = DecisionTreeClassifier(criterion='gini',max_depth = 3, min_samples_leaf=4 )\n",
    "new_clf = new_clf.fit(a_train, b_train)\n"
   ]
  },
  {
   "cell_type": "code",
   "execution_count": 22,
   "id": "fe7dbb33",
   "metadata": {
    "execution": {
     "iopub.execute_input": "2024-07-29T08:45:30.482057Z",
     "iopub.status.busy": "2024-07-29T08:45:30.481615Z",
     "iopub.status.idle": "2024-07-29T08:45:30.806689Z",
     "shell.execute_reply": "2024-07-29T08:45:30.805575Z"
    },
    "papermill": {
     "duration": 0.341906,
     "end_time": "2024-07-29T08:45:30.809527",
     "exception": false,
     "start_time": "2024-07-29T08:45:30.467621",
     "status": "completed"
    },
    "tags": []
   },
   "outputs": [
    {
     "data": {
      "image/png": "[encoded data removed]",
      "text/plain": [
       "<Figure size 2000x1000 with 1 Axes>"
      ]
     },
     "metadata": {},
     "output_type": "display_data"
    }
   ],
   "source": [
    "def plot_decision_tree(model, feature_names, class_names):\n",
    "    tree = plot_tree(model, feature_names = feature_names, class_names = class_names,\n",
    "                     rounded = True, proportion = True, precision = 2, filled = True, fontsize=10)\n",
    "    \n",
    "    return tree\n",
    "\n",
    "plt.figure(figsize=(20,10))\n",
    "plot_decision_tree(new_clf, a.columns, new_clf.classes_)\n",
    "plt.show()"
   ]
  },
  {
   "cell_type": "markdown",
   "id": "eaaebec7",
   "metadata": {
    "papermill": {
     "duration": 0.013403,
     "end_time": "2024-07-29T08:45:30.836966",
     "exception": false,
     "start_time": "2024-07-29T08:45:30.823563",
     "status": "completed"
    },
    "tags": []
   },
   "source": [
    "Here, `credit_score` is the root-node of the tree, but when we had trained the model on the entire dataset, the feature `income` was present at the top. This clearly indicates that feature importance has helped us to prevent the problem of `overfitting` to some extent."
   ]
  },
  {
   "cell_type": "code",
   "execution_count": 23,
   "id": "10dbf3db",
   "metadata": {
    "execution": {
     "iopub.execute_input": "2024-07-29T08:45:30.866201Z",
     "iopub.status.busy": "2024-07-29T08:45:30.865806Z",
     "iopub.status.idle": "2024-07-29T08:45:30.871804Z",
     "shell.execute_reply": "2024-07-29T08:45:30.870623Z"
    },
    "papermill": {
     "duration": 0.023855,
     "end_time": "2024-07-29T08:45:30.874261",
     "exception": false,
     "start_time": "2024-07-29T08:45:30.850406",
     "status": "completed"
    },
    "tags": []
   },
   "outputs": [],
   "source": [
    "a_test = loan_test_encoded.drop('loan_status', axis=1)\n",
    "b_test = loan_test_encoded.loan_status"
   ]
  },
  {
   "cell_type": "code",
   "execution_count": 24,
   "id": "10395a89",
   "metadata": {
    "execution": {
     "iopub.execute_input": "2024-07-29T08:45:30.903067Z",
     "iopub.status.busy": "2024-07-29T08:45:30.902664Z",
     "iopub.status.idle": "2024-07-29T08:45:30.909887Z",
     "shell.execute_reply": "2024-07-29T08:45:30.908604Z"
    },
    "papermill": {
     "duration": 0.024266,
     "end_time": "2024-07-29T08:45:30.912113",
     "exception": false,
     "start_time": "2024-07-29T08:45:30.887847",
     "status": "completed"
    },
    "tags": []
   },
   "outputs": [],
   "source": [
    "b_pred = new_clf.predict(a_test)"
   ]
  },
  {
   "cell_type": "code",
   "execution_count": 25,
   "id": "0e310f37",
   "metadata": {
    "execution": {
     "iopub.execute_input": "2024-07-29T08:45:31.001417Z",
     "iopub.status.busy": "2024-07-29T08:45:31.001013Z",
     "iopub.status.idle": "2024-07-29T08:45:31.015060Z",
     "shell.execute_reply": "2024-07-29T08:45:31.013337Z"
    },
    "papermill": {
     "duration": 0.032804,
     "end_time": "2024-07-29T08:45:31.018059",
     "exception": false,
     "start_time": "2024-07-29T08:45:30.985255",
     "status": "completed"
    },
    "tags": []
   },
   "outputs": [
    {
     "data": {
      "text/html": [
       "<div>\n",
       "<style scoped>\n",
       "    .dataframe tbody tr th:only-of-type {\n",
       "        vertical-align: middle;\n",
       "    }\n",
       "\n",
       "    .dataframe tbody tr th {\n",
       "        vertical-align: top;\n",
       "    }\n",
       "\n",
       "    .dataframe thead th {\n",
       "        text-align: right;\n",
       "    }\n",
       "</style>\n",
       "<table border=\"1\" class=\"dataframe\">\n",
       "  <thead>\n",
       "    <tr style=\"text-align: right;\">\n",
       "      <th></th>\n",
       "      <th>Predicted</th>\n",
       "      <th>Actual</th>\n",
       "    </tr>\n",
       "  </thead>\n",
       "  <tbody>\n",
       "    <tr>\n",
       "      <th>0</th>\n",
       "      <td>Approved</td>\n",
       "      <td>Approved</td>\n",
       "    </tr>\n",
       "    <tr>\n",
       "      <th>1</th>\n",
       "      <td>Approved</td>\n",
       "      <td>Approved</td>\n",
       "    </tr>\n",
       "    <tr>\n",
       "      <th>2</th>\n",
       "      <td>Denied</td>\n",
       "      <td>Denied</td>\n",
       "    </tr>\n",
       "    <tr>\n",
       "      <th>3</th>\n",
       "      <td>Approved</td>\n",
       "      <td>Approved</td>\n",
       "    </tr>\n",
       "    <tr>\n",
       "      <th>4</th>\n",
       "      <td>Approved</td>\n",
       "      <td>Approved</td>\n",
       "    </tr>\n",
       "    <tr>\n",
       "      <th>...</th>\n",
       "      <td>...</td>\n",
       "      <td>...</td>\n",
       "    </tr>\n",
       "    <tr>\n",
       "      <th>56</th>\n",
       "      <td>Approved</td>\n",
       "      <td>Approved</td>\n",
       "    </tr>\n",
       "    <tr>\n",
       "      <th>57</th>\n",
       "      <td>Denied</td>\n",
       "      <td>Denied</td>\n",
       "    </tr>\n",
       "    <tr>\n",
       "      <th>58</th>\n",
       "      <td>Approved</td>\n",
       "      <td>Approved</td>\n",
       "    </tr>\n",
       "    <tr>\n",
       "      <th>59</th>\n",
       "      <td>Approved</td>\n",
       "      <td>Approved</td>\n",
       "    </tr>\n",
       "    <tr>\n",
       "      <th>60</th>\n",
       "      <td>Approved</td>\n",
       "      <td>Approved</td>\n",
       "    </tr>\n",
       "  </tbody>\n",
       "</table>\n",
       "<p>61 rows × 2 columns</p>\n",
       "</div>"
      ],
      "text/plain": [
       "   Predicted    Actual\n",
       "0   Approved  Approved\n",
       "1   Approved  Approved\n",
       "2     Denied    Denied\n",
       "3   Approved  Approved\n",
       "4   Approved  Approved\n",
       "..       ...       ...\n",
       "56  Approved  Approved\n",
       "57    Denied    Denied\n",
       "58  Approved  Approved\n",
       "59  Approved  Approved\n",
       "60  Approved  Approved\n",
       "\n",
       "[61 rows x 2 columns]"
      ]
     },
     "execution_count": 25,
     "metadata": {},
     "output_type": "execute_result"
    }
   ],
   "source": [
    "new_results = pd.DataFrame({\n",
    "    'Predicted': b_pred,\n",
    "    'Actual': b_test\n",
    "})\n",
    "\n",
    "new_results"
   ]
  },
  {
   "cell_type": "code",
   "execution_count": 26,
   "id": "78d219c9",
   "metadata": {
    "execution": {
     "iopub.execute_input": "2024-07-29T08:45:31.048545Z",
     "iopub.status.busy": "2024-07-29T08:45:31.047485Z",
     "iopub.status.idle": "2024-07-29T08:45:31.057860Z",
     "shell.execute_reply": "2024-07-29T08:45:31.056608Z"
    },
    "papermill": {
     "duration": 0.028142,
     "end_time": "2024-07-29T08:45:31.060261",
     "exception": false,
     "start_time": "2024-07-29T08:45:31.032119",
     "status": "completed"
    },
    "tags": []
   },
   "outputs": [
    {
     "data": {
      "text/plain": [
       "array([[45,  0],\n",
       "       [ 0, 16]])"
      ]
     },
     "execution_count": 26,
     "metadata": {},
     "output_type": "execute_result"
    }
   ],
   "source": [
    "from sklearn.metrics import confusion_matrix\n",
    "\n",
    "conf_matrix = confusion_matrix(b_test, b_pred)\n",
    "conf_matrix"
   ]
  },
  {
   "cell_type": "code",
   "execution_count": 27,
   "id": "4e5238a7",
   "metadata": {
    "execution": {
     "iopub.execute_input": "2024-07-29T08:45:31.090612Z",
     "iopub.status.busy": "2024-07-29T08:45:31.089859Z",
     "iopub.status.idle": "2024-07-29T08:45:31.106929Z",
     "shell.execute_reply": "2024-07-29T08:45:31.105657Z"
    },
    "papermill": {
     "duration": 0.035124,
     "end_time": "2024-07-29T08:45:31.109472",
     "exception": false,
     "start_time": "2024-07-29T08:45:31.074348",
     "status": "completed"
    },
    "tags": []
   },
   "outputs": [
    {
     "name": "stdout",
     "output_type": "stream",
     "text": [
      "              precision    recall  f1-score   support\n",
      "\n",
      "    Approved       1.00      1.00      1.00        45\n",
      "      Denied       1.00      1.00      1.00        16\n",
      "\n",
      "    accuracy                           1.00        61\n",
      "   macro avg       1.00      1.00      1.00        61\n",
      "weighted avg       1.00      1.00      1.00        61\n",
      "\n"
     ]
    }
   ],
   "source": [
    "from sklearn.metrics import classification_report\n",
    "\n",
    "report = classification_report(b_test, b_pred)\n",
    "print(report)"
   ]
  },
  {
   "cell_type": "markdown",
   "id": "3fd8e58a",
   "metadata": {
    "papermill": {
     "duration": 0.014389,
     "end_time": "2024-07-29T08:45:31.138122",
     "exception": false,
     "start_time": "2024-07-29T08:45:31.123733",
     "status": "completed"
    },
    "tags": []
   },
   "source": [
    "We can see that now the metrics values have changed, and the model is not exactly 100% accurate.\n",
    "While this might still not be the most accurate analysis of the Decision Tree model but it helps us understand how certain features can affect the results of a model."
   ]
  }
 ],
 "metadata": {
  "kaggle": {
   "accelerator": "none",
   "dataSources": [
    {
     "datasetId": 4839442,
     "sourceId": 8175684,
     "sourceType": "datasetVersion"
    }
   ],
   "dockerImageVersionId": 30746,
   "isGpuEnabled": false,
   "isInternetEnabled": false,
   "language": "python",
   "sourceType": "notebook"
  },
  "kernelspec": {
   "display_name": "Python 3",
   "language": "python",
   "name": "python3"
  },
  "language_info": {
   "codemirror_mode": {
    "name": "ipython",
    "version": 3
   },
   "file_extension": ".py",
   "mimetype": "text/x-python",
   "name": "python",
   "nbconvert_exporter": "python",
   "pygments_lexer": "ipython3",
   "version": "3.10.13"
  },
  "papermill": {
   "default_parameters": {},
   "duration": 9.058712,
   "end_time": "2024-07-29T08:45:31.775287",
   "environment_variables": {},
   "exception": null,
   "input_path": "__notebook__.ipynb",
   "output_path": "__notebook__.ipynb",
   "parameters": {},
   "start_time": "2024-07-29T08:45:22.716575",
   "version": "2.5.0"
  }
 },
 "nbformat": 4,
 "nbformat_minor": 5
}

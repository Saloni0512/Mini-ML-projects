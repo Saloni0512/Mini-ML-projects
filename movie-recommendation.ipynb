{
 "cells": [
  {
   "cell_type": "code",
   "execution_count": 1,
   "id": "e468caab",
   "metadata": {
    "_cell_guid": "b1076dfc-b9ad-4769-8c92-a6c4dae69d19",
    "_uuid": "8f2839f25d086af736a60e9eeb907d3b93b6e0e5",
    "execution": {
     "iopub.execute_input": "2024-07-18T07:21:13.258102Z",
     "iopub.status.busy": "2024-07-18T07:21:13.257707Z",
     "iopub.status.idle": "2024-07-18T07:21:15.618963Z",
     "shell.execute_reply": "2024-07-18T07:21:15.617728Z"
    },
    "papermill": {
     "duration": 2.369869,
     "end_time": "2024-07-18T07:21:15.621823",
     "exception": false,
     "start_time": "2024-07-18T07:21:13.251954",
     "status": "completed"
    },
    "tags": []
   },
   "outputs": [
    {
     "name": "stdout",
     "output_type": "stream",
     "text": [
      "/kaggle/input/movierecommenderdataset/movies.csv\n",
      "/kaggle/input/movierecommenderdataset/ratings.csv\n"
     ]
    },
    {
     "name": "stderr",
     "output_type": "stream",
     "text": [
      "/opt/conda/lib/python3.10/site-packages/fuzzywuzzy/fuzz.py:11: UserWarning: Using slow pure-python SequenceMatcher. Install python-Levenshtein to remove this warning\n",
      "  warnings.warn('Using slow pure-python SequenceMatcher. Install python-Levenshtein to remove this warning')\n"
     ]
    }
   ],
   "source": [
    "\n",
    "import numpy as np \n",
    "import pandas as pd\n",
    "import matplotlib.pyplot as plt\n",
    "from sklearn.neighbors import NearestNeighbors\n",
    "from fuzzywuzzy import process\n",
    "from scipy.sparse import csr_matrix\n",
    "\n",
    "\n",
    "\n",
    "import os\n",
    "for dirname, _, filenames in os.walk('/kaggle/input'):\n",
    "    for filename in filenames:\n",
    "        print(os.path.join(dirname, filename))\n",
    "\n"
   ]
  },
  {
   "cell_type": "code",
   "execution_count": 2,
   "id": "b5caed71",
   "metadata": {
    "execution": {
     "iopub.execute_input": "2024-07-18T07:21:15.632539Z",
     "iopub.status.busy": "2024-07-18T07:21:15.631556Z",
     "iopub.status.idle": "2024-07-18T07:21:15.732740Z",
     "shell.execute_reply": "2024-07-18T07:21:15.731619Z"
    },
    "papermill": {
     "duration": 0.10969,
     "end_time": "2024-07-18T07:21:15.735629",
     "exception": false,
     "start_time": "2024-07-18T07:21:15.625939",
     "status": "completed"
    },
    "tags": []
   },
   "outputs": [],
   "source": [
    "#Loading data\n",
    "movie_ratings = pd.read_csv('/kaggle/input/movierecommenderdataset/ratings.csv')"
   ]
  },
  {
   "cell_type": "code",
   "execution_count": 3,
   "id": "cfb6993e",
   "metadata": {
    "execution": {
     "iopub.execute_input": "2024-07-18T07:21:15.745472Z",
     "iopub.status.busy": "2024-07-18T07:21:15.745086Z",
     "iopub.status.idle": "2024-07-18T07:21:15.763129Z",
     "shell.execute_reply": "2024-07-18T07:21:15.761893Z"
    },
    "papermill": {
     "duration": 0.025578,
     "end_time": "2024-07-18T07:21:15.765350",
     "exception": false,
     "start_time": "2024-07-18T07:21:15.739772",
     "status": "completed"
    },
    "tags": []
   },
   "outputs": [
    {
     "name": "stdout",
     "output_type": "stream",
     "text": [
      "   userId  movieId  rating  timestamp\n",
      "0       1        1     4.0  964982703\n",
      "1       1        3     4.0  964981247\n",
      "2       1        6     4.0  964982224\n",
      "3       1       47     5.0  964983815\n",
      "4       1       50     5.0  964982931\n"
     ]
    }
   ],
   "source": [
    "print(movie_ratings.head())"
   ]
  },
  {
   "cell_type": "code",
   "execution_count": 4,
   "id": "b35eca9e",
   "metadata": {
    "execution": {
     "iopub.execute_input": "2024-07-18T07:21:15.774853Z",
     "iopub.status.busy": "2024-07-18T07:21:15.774432Z",
     "iopub.status.idle": "2024-07-18T07:21:15.806070Z",
     "shell.execute_reply": "2024-07-18T07:21:15.805050Z"
    },
    "papermill": {
     "duration": 0.039075,
     "end_time": "2024-07-18T07:21:15.808396",
     "exception": false,
     "start_time": "2024-07-18T07:21:15.769321",
     "status": "completed"
    },
    "tags": []
   },
   "outputs": [
    {
     "name": "stdout",
     "output_type": "stream",
     "text": [
      "   movieId                               title  \\\n",
      "0        1                    Toy Story (1995)   \n",
      "1        2                      Jumanji (1995)   \n",
      "2        3             Grumpier Old Men (1995)   \n",
      "3        4            Waiting to Exhale (1995)   \n",
      "4        5  Father of the Bride Part II (1995)   \n",
      "\n",
      "                                        genres  \n",
      "0  Adventure|Animation|Children|Comedy|Fantasy  \n",
      "1                   Adventure|Children|Fantasy  \n",
      "2                               Comedy|Romance  \n",
      "3                         Comedy|Drama|Romance  \n",
      "4                                       Comedy  \n"
     ]
    }
   ],
   "source": [
    "movies = pd.read_csv('/kaggle/input/movierecommenderdataset/movies.csv')\n",
    "print(movies.head())"
   ]
  },
  {
   "cell_type": "markdown",
   "id": "5d04362d",
   "metadata": {
    "papermill": {
     "duration": 0.003644,
     "end_time": "2024-07-18T07:21:15.816043",
     "exception": false,
     "start_time": "2024-07-18T07:21:15.812399",
     "status": "completed"
    },
    "tags": []
   },
   "source": [
    "**Combining the two datasets**"
   ]
  },
  {
   "cell_type": "code",
   "execution_count": 5,
   "id": "31fa2bba",
   "metadata": {
    "execution": {
     "iopub.execute_input": "2024-07-18T07:21:15.825450Z",
     "iopub.status.busy": "2024-07-18T07:21:15.825058Z",
     "iopub.status.idle": "2024-07-18T07:21:15.865888Z",
     "shell.execute_reply": "2024-07-18T07:21:15.864584Z"
    },
    "papermill": {
     "duration": 0.048387,
     "end_time": "2024-07-18T07:21:15.868253",
     "exception": false,
     "start_time": "2024-07-18T07:21:15.819866",
     "status": "completed"
    },
    "tags": []
   },
   "outputs": [
    {
     "name": "stdout",
     "output_type": "stream",
     "text": [
      "   userId  movieId  rating  timestamp                        title  \\\n",
      "0       1        1     4.0  964982703             Toy Story (1995)   \n",
      "1       1        3     4.0  964981247      Grumpier Old Men (1995)   \n",
      "2       1        6     4.0  964982224                  Heat (1995)   \n",
      "3       1       47     5.0  964983815  Seven (a.k.a. Se7en) (1995)   \n",
      "4       1       50     5.0  964982931   Usual Suspects, The (1995)   \n",
      "\n",
      "                                        genres  \n",
      "0  Adventure|Animation|Children|Comedy|Fantasy  \n",
      "1                               Comedy|Romance  \n",
      "2                        Action|Crime|Thriller  \n",
      "3                             Mystery|Thriller  \n",
      "4                       Crime|Mystery|Thriller  \n"
     ]
    }
   ],
   "source": [
    "#Combining the two datasets\n",
    "movie_data = movie_ratings.merge(movies, on ='movieId')\n",
    "print(movie_data.head())\n"
   ]
  },
  {
   "cell_type": "code",
   "execution_count": 6,
   "id": "caaced1a",
   "metadata": {
    "execution": {
     "iopub.execute_input": "2024-07-18T07:21:15.878389Z",
     "iopub.status.busy": "2024-07-18T07:21:15.877719Z",
     "iopub.status.idle": "2024-07-18T07:21:15.885120Z",
     "shell.execute_reply": "2024-07-18T07:21:15.884131Z"
    },
    "papermill": {
     "duration": 0.014996,
     "end_time": "2024-07-18T07:21:15.887406",
     "exception": false,
     "start_time": "2024-07-18T07:21:15.872410",
     "status": "completed"
    },
    "tags": []
   },
   "outputs": [
    {
     "name": "stdout",
     "output_type": "stream",
     "text": [
      "userId                                 1\n",
      "movieId                               47\n",
      "rating                               5.0\n",
      "timestamp                      964983815\n",
      "title        Seven (a.k.a. Se7en) (1995)\n",
      "genres                  Mystery|Thriller\n",
      "Name: 3, dtype: object\n"
     ]
    }
   ],
   "source": [
    "#Finding the movie with highest rating\n",
    "max_rating_index = movie_data['rating'].idxmax()\n",
    "highest_rating = movie_data.loc[max_rating_index]\n",
    "print(highest_rating)\n"
   ]
  },
  {
   "cell_type": "code",
   "execution_count": 7,
   "id": "1fdeb8d6",
   "metadata": {
    "execution": {
     "iopub.execute_input": "2024-07-18T07:21:15.897985Z",
     "iopub.status.busy": "2024-07-18T07:21:15.897004Z",
     "iopub.status.idle": "2024-07-18T07:21:16.009427Z",
     "shell.execute_reply": "2024-07-18T07:21:16.007745Z"
    },
    "papermill": {
     "duration": 0.120266,
     "end_time": "2024-07-18T07:21:16.011855",
     "exception": false,
     "start_time": "2024-07-18T07:21:15.891589",
     "status": "completed"
    },
    "tags": []
   },
   "outputs": [
    {
     "name": "stdout",
     "output_type": "stream",
     "text": [
      "movieId  1       2       3       4       5       6       7       8       \\\n",
      "userId                                                                    \n",
      "1           4.0     0.0     4.0     0.0     0.0     4.0     0.0     0.0   \n",
      "2           0.0     0.0     0.0     0.0     0.0     0.0     0.0     0.0   \n",
      "3           0.0     0.0     0.0     0.0     0.0     0.0     0.0     0.0   \n",
      "4           0.0     0.0     0.0     0.0     0.0     0.0     0.0     0.0   \n",
      "5           4.0     0.0     0.0     0.0     0.0     0.0     0.0     0.0   \n",
      "...         ...     ...     ...     ...     ...     ...     ...     ...   \n",
      "606         2.5     0.0     0.0     0.0     0.0     0.0     2.5     0.0   \n",
      "607         4.0     0.0     0.0     0.0     0.0     0.0     0.0     0.0   \n",
      "608         2.5     2.0     2.0     0.0     0.0     0.0     0.0     0.0   \n",
      "609         3.0     0.0     0.0     0.0     0.0     0.0     0.0     0.0   \n",
      "610         5.0     0.0     0.0     0.0     0.0     5.0     0.0     0.0   \n",
      "\n",
      "movieId  9       10      ...  193565  193567  193571  193573  193579  193581  \\\n",
      "userId                   ...                                                   \n",
      "1           0.0     0.0  ...     0.0     0.0     0.0     0.0     0.0     0.0   \n",
      "2           0.0     0.0  ...     0.0     0.0     0.0     0.0     0.0     0.0   \n",
      "3           0.0     0.0  ...     0.0     0.0     0.0     0.0     0.0     0.0   \n",
      "4           0.0     0.0  ...     0.0     0.0     0.0     0.0     0.0     0.0   \n",
      "5           0.0     0.0  ...     0.0     0.0     0.0     0.0     0.0     0.0   \n",
      "...         ...     ...  ...     ...     ...     ...     ...     ...     ...   \n",
      "606         0.0     0.0  ...     0.0     0.0     0.0     0.0     0.0     0.0   \n",
      "607         0.0     0.0  ...     0.0     0.0     0.0     0.0     0.0     0.0   \n",
      "608         0.0     4.0  ...     0.0     0.0     0.0     0.0     0.0     0.0   \n",
      "609         0.0     4.0  ...     0.0     0.0     0.0     0.0     0.0     0.0   \n",
      "610         0.0     0.0  ...     0.0     0.0     0.0     0.0     0.0     0.0   \n",
      "\n",
      "movieId  193583  193585  193587  193609  \n",
      "userId                                   \n",
      "1           0.0     0.0     0.0     0.0  \n",
      "2           0.0     0.0     0.0     0.0  \n",
      "3           0.0     0.0     0.0     0.0  \n",
      "4           0.0     0.0     0.0     0.0  \n",
      "5           0.0     0.0     0.0     0.0  \n",
      "...         ...     ...     ...     ...  \n",
      "606         0.0     0.0     0.0     0.0  \n",
      "607         0.0     0.0     0.0     0.0  \n",
      "608         0.0     0.0     0.0     0.0  \n",
      "609         0.0     0.0     0.0     0.0  \n",
      "610         0.0     0.0     0.0     0.0  \n",
      "\n",
      "[610 rows x 9724 columns]\n"
     ]
    }
   ],
   "source": [
    "#item based filtering\n",
    "user_item_matrix = movie_ratings.pivot(columns = ['movieId'], index =['userId'], values ='rating').fillna(0)\n",
    "print(user_item_matrix)"
   ]
  },
  {
   "cell_type": "code",
   "execution_count": 8,
   "id": "7cb7c7c4",
   "metadata": {
    "execution": {
     "iopub.execute_input": "2024-07-18T07:21:16.022127Z",
     "iopub.status.busy": "2024-07-18T07:21:16.021757Z",
     "iopub.status.idle": "2024-07-18T07:21:16.078296Z",
     "shell.execute_reply": "2024-07-18T07:21:16.076483Z"
    },
    "papermill": {
     "duration": 0.064752,
     "end_time": "2024-07-18T07:21:16.081061",
     "exception": false,
     "start_time": "2024-07-18T07:21:16.016309",
     "status": "completed"
    },
    "tags": []
   },
   "outputs": [
    {
     "name": "stdout",
     "output_type": "stream",
     "text": [
      "  (0, 0)\t4.0\n",
      "  (0, 2)\t4.0\n",
      "  (0, 5)\t4.0\n",
      "  (0, 43)\t5.0\n",
      "  (0, 46)\t5.0\n",
      "  (0, 62)\t3.0\n",
      "  (0, 89)\t5.0\n",
      "  (0, 97)\t4.0\n",
      "  (0, 124)\t5.0\n",
      "  (0, 130)\t5.0\n",
      "  (0, 136)\t5.0\n",
      "  (0, 184)\t5.0\n",
      "  (0, 190)\t3.0\n",
      "  (0, 197)\t5.0\n",
      "  (0, 201)\t4.0\n",
      "  (0, 224)\t5.0\n",
      "  (0, 257)\t3.0\n",
      "  (0, 275)\t3.0\n",
      "  (0, 291)\t5.0\n",
      "  (0, 307)\t4.0\n",
      "  (0, 314)\t4.0\n",
      "  (0, 320)\t5.0\n",
      "  (0, 325)\t4.0\n",
      "  (0, 367)\t3.0\n",
      "  (0, 384)\t4.0\n",
      "  :\t:\n",
      "  (609, 9238)\t5.0\n",
      "  (609, 9246)\t4.5\n",
      "  (609, 9256)\t4.0\n",
      "  (609, 9268)\t5.0\n",
      "  (609, 9274)\t3.5\n",
      "  (609, 9279)\t3.5\n",
      "  (609, 9282)\t3.0\n",
      "  (609, 9288)\t3.0\n",
      "  (609, 9304)\t3.0\n",
      "  (609, 9307)\t2.5\n",
      "  (609, 9312)\t4.5\n",
      "  (609, 9317)\t3.0\n",
      "  (609, 9324)\t3.0\n",
      "  (609, 9339)\t4.0\n",
      "  (609, 9341)\t4.0\n",
      "  (609, 9348)\t3.5\n",
      "  (609, 9371)\t3.5\n",
      "  (609, 9372)\t3.5\n",
      "  (609, 9374)\t5.0\n",
      "  (609, 9415)\t4.0\n",
      "  (609, 9416)\t4.0\n",
      "  (609, 9443)\t5.0\n",
      "  (609, 9444)\t5.0\n",
      "  (609, 9445)\t5.0\n",
      "  (609, 9485)\t3.0\n"
     ]
    }
   ],
   "source": [
    "#optimising the above sparse matrix\n",
    "matrix_values = csr_matrix(user_item_matrix)\n",
    "print(matrix_values)"
   ]
  },
  {
   "cell_type": "code",
   "execution_count": 9,
   "id": "b9beef32",
   "metadata": {
    "execution": {
     "iopub.execute_input": "2024-07-18T07:21:16.091939Z",
     "iopub.status.busy": "2024-07-18T07:21:16.091410Z",
     "iopub.status.idle": "2024-07-18T07:21:16.106621Z",
     "shell.execute_reply": "2024-07-18T07:21:16.105428Z"
    },
    "papermill": {
     "duration": 0.023258,
     "end_time": "2024-07-18T07:21:16.108945",
     "exception": false,
     "start_time": "2024-07-18T07:21:16.085687",
     "status": "completed"
    },
    "tags": []
   },
   "outputs": [
    {
     "data": {
      "text/html": [
       "<style>#sk-container-id-1 {color: black;background-color: white;}#sk-container-id-1 pre{padding: 0;}#sk-container-id-1 div.sk-toggleable {background-color: white;}#sk-container-id-1 label.sk-toggleable__label {cursor: pointer;display: block;width: 100%;margin-bottom: 0;padding: 0.3em;box-sizing: border-box;text-align: center;}#sk-container-id-1 label.sk-toggleable__label-arrow:before {content: \"▸\";float: left;margin-right: 0.25em;color: #696969;}#sk-container-id-1 label.sk-toggleable__label-arrow:hover:before {color: black;}#sk-container-id-1 div.sk-estimator:hover label.sk-toggleable__label-arrow:before {color: black;}#sk-container-id-1 div.sk-toggleable__content {max-height: 0;max-width: 0;overflow: hidden;text-align: left;background-color: #f0f8ff;}#sk-container-id-1 div.sk-toggleable__content pre {margin: 0.2em;color: black;border-radius: 0.25em;background-color: #f0f8ff;}#sk-container-id-1 input.sk-toggleable__control:checked~div.sk-toggleable__content {max-height: 200px;max-width: 100%;overflow: auto;}#sk-container-id-1 input.sk-toggleable__control:checked~label.sk-toggleable__label-arrow:before {content: \"▾\";}#sk-container-id-1 div.sk-estimator input.sk-toggleable__control:checked~label.sk-toggleable__label {background-color: #d4ebff;}#sk-container-id-1 div.sk-label input.sk-toggleable__control:checked~label.sk-toggleable__label {background-color: #d4ebff;}#sk-container-id-1 input.sk-hidden--visually {border: 0;clip: rect(1px 1px 1px 1px);clip: rect(1px, 1px, 1px, 1px);height: 1px;margin: -1px;overflow: hidden;padding: 0;position: absolute;width: 1px;}#sk-container-id-1 div.sk-estimator {font-family: monospace;background-color: #f0f8ff;border: 1px dotted black;border-radius: 0.25em;box-sizing: border-box;margin-bottom: 0.5em;}#sk-container-id-1 div.sk-estimator:hover {background-color: #d4ebff;}#sk-container-id-1 div.sk-parallel-item::after {content: \"\";width: 100%;border-bottom: 1px solid gray;flex-grow: 1;}#sk-container-id-1 div.sk-label:hover label.sk-toggleable__label {background-color: #d4ebff;}#sk-container-id-1 div.sk-serial::before {content: \"\";position: absolute;border-left: 1px solid gray;box-sizing: border-box;top: 0;bottom: 0;left: 50%;z-index: 0;}#sk-container-id-1 div.sk-serial {display: flex;flex-direction: column;align-items: center;background-color: white;padding-right: 0.2em;padding-left: 0.2em;position: relative;}#sk-container-id-1 div.sk-item {position: relative;z-index: 1;}#sk-container-id-1 div.sk-parallel {display: flex;align-items: stretch;justify-content: center;background-color: white;position: relative;}#sk-container-id-1 div.sk-item::before, #sk-container-id-1 div.sk-parallel-item::before {content: \"\";position: absolute;border-left: 1px solid gray;box-sizing: border-box;top: 0;bottom: 0;left: 50%;z-index: -1;}#sk-container-id-1 div.sk-parallel-item {display: flex;flex-direction: column;z-index: 1;position: relative;background-color: white;}#sk-container-id-1 div.sk-parallel-item:first-child::after {align-self: flex-end;width: 50%;}#sk-container-id-1 div.sk-parallel-item:last-child::after {align-self: flex-start;width: 50%;}#sk-container-id-1 div.sk-parallel-item:only-child::after {width: 0;}#sk-container-id-1 div.sk-dashed-wrapped {border: 1px dashed gray;margin: 0 0.4em 0.5em 0.4em;box-sizing: border-box;padding-bottom: 0.4em;background-color: white;}#sk-container-id-1 div.sk-label label {font-family: monospace;font-weight: bold;display: inline-block;line-height: 1.2em;}#sk-container-id-1 div.sk-label-container {text-align: center;}#sk-container-id-1 div.sk-container {/* jupyter's `normalize.less` sets `[hidden] { display: none; }` but bootstrap.min.css set `[hidden] { display: none !important; }` so we also need the `!important` here to be able to override the default hidden behavior on the sphinx rendered scikit-learn.org. See: https://github.com/scikit-learn/scikit-learn/issues/21755 */display: inline-block !important;position: relative;}#sk-container-id-1 div.sk-text-repr-fallback {display: none;}</style><div id=\"sk-container-id-1\" class=\"sk-top-container\"><div class=\"sk-text-repr-fallback\"><pre>NearestNeighbors(algorithm=&#x27;brute&#x27;, metric=&#x27;cosine&#x27;, n_jobs=-1, n_neighbors=20)</pre><b>In a Jupyter environment, please rerun this cell to show the HTML representation or trust the notebook. <br />On GitHub, the HTML representation is unable to render, please try loading this page with nbviewer.org.</b></div><div class=\"sk-container\" hidden><div class=\"sk-item\"><div class=\"sk-estimator sk-toggleable\"><input class=\"sk-toggleable__control sk-hidden--visually\" id=\"sk-estimator-id-1\" type=\"checkbox\" checked><label for=\"sk-estimator-id-1\" class=\"sk-toggleable__label sk-toggleable__label-arrow\">NearestNeighbors</label><div class=\"sk-toggleable__content\"><pre>NearestNeighbors(algorithm=&#x27;brute&#x27;, metric=&#x27;cosine&#x27;, n_jobs=-1, n_neighbors=20)</pre></div></div></div></div></div>"
      ],
      "text/plain": [
       "NearestNeighbors(algorithm='brute', metric='cosine', n_jobs=-1, n_neighbors=20)"
      ]
     },
     "execution_count": 9,
     "metadata": {},
     "output_type": "execute_result"
    }
   ],
   "source": [
    "#Using Cosine similarity\n",
    "knn_model= NearestNeighbors(metric='cosine', algorithm='brute', n_neighbors=20, n_jobs=-1)\n",
    "\n",
    "knn_model.fit(matrix_values)"
   ]
  },
  {
   "cell_type": "code",
   "execution_count": 10,
   "id": "0833edf0",
   "metadata": {
    "execution": {
     "iopub.execute_input": "2024-07-18T07:21:16.120305Z",
     "iopub.status.busy": "2024-07-18T07:21:16.119948Z",
     "iopub.status.idle": "2024-07-18T07:21:16.127945Z",
     "shell.execute_reply": "2024-07-18T07:21:16.126633Z"
    },
    "papermill": {
     "duration": 0.016421,
     "end_time": "2024-07-18T07:21:16.130230",
     "exception": false,
     "start_time": "2024-07-18T07:21:16.113809",
     "status": "completed"
    },
    "tags": []
   },
   "outputs": [],
   "source": [
    "#movie recommender function which takes matrix_values, no of recommendations and a movie from the dataset as arguments\n",
    "\n",
    "def recommender( movie_name, matrix, n_recs):\n",
    "    idx = process.extractOne(movie_name,movies['title'])[2] \n",
    "    print(idx)\n",
    "    print('Movie selected: ',movies['title'][idx], 'Index: ', idx)\n",
    "    print(\"Searching Recommendations......\")\n",
    "    distance, indices = knn_model.kneighbors(matrix[idx], n_neighbors= n_recs)\n",
    "    for i in indices:\n",
    "        print(movies['title'][i].where(i!=idx)) # using where to avoid printing the selected movie"
   ]
  },
  {
   "cell_type": "code",
   "execution_count": 11,
   "id": "fa53e46c",
   "metadata": {
    "execution": {
     "iopub.execute_input": "2024-07-18T07:21:16.141828Z",
     "iopub.status.busy": "2024-07-18T07:21:16.140944Z",
     "iopub.status.idle": "2024-07-18T07:21:19.836688Z",
     "shell.execute_reply": "2024-07-18T07:21:19.835527Z"
    },
    "papermill": {
     "duration": 3.704181,
     "end_time": "2024-07-18T07:21:19.839229",
     "exception": false,
     "start_time": "2024-07-18T07:21:16.135048",
     "status": "completed"
    },
    "tags": []
   },
   "outputs": [
    {
     "name": "stdout",
     "output_type": "stream",
     "text": [
      "126\n",
      "Movie selected:  Batman Forever (1995) Index:  126\n",
      "Searching Recommendations......\n",
      "126                              NaN\n",
      "187                 Cure, The (1995)\n",
      "395                 Firm, The (1993)\n",
      "411           In the Army Now (1994)\n",
      "517    Great Day in Harlem, A (1994)\n",
      "Name: title, dtype: object\n"
     ]
    }
   ],
   "source": [
    "recommender('Batman', matrix_values, 5)"
   ]
  },
  {
   "cell_type": "markdown",
   "id": "3cbece32",
   "metadata": {
    "papermill": {
     "duration": 0.0052,
     "end_time": "2024-07-18T07:21:19.849443",
     "exception": false,
     "start_time": "2024-07-18T07:21:19.844243",
     "status": "completed"
    },
    "tags": []
   },
   "source": [
    "Hence, here we used collaborative filtering approach to predict top 5 movies similar to Batman"
   ]
  }
 ],
 "metadata": {
  "kaggle": {
   "accelerator": "none",
   "dataSources": [
    {
     "datasetId": 1310670,
     "sourceId": 2183267,
     "sourceType": "datasetVersion"
    }
   ],
   "dockerImageVersionId": 30746,
   "isGpuEnabled": false,
   "isInternetEnabled": true,
   "language": "python",
   "sourceType": "notebook"
  },
  "kernelspec": {
   "display_name": "Python 3",
   "language": "python",
   "name": "python3"
  },
  "language_info": {
   "codemirror_mode": {
    "name": "ipython",
    "version": 3
   },
   "file_extension": ".py",
   "mimetype": "text/x-python",
   "name": "python",
   "nbconvert_exporter": "python",
   "pygments_lexer": "ipython3",
   "version": "3.10.13"
  },
  "papermill": {
   "default_parameters": {},
   "duration": 9.991884,
   "end_time": "2024-07-18T07:21:20.475035",
   "environment_variables": {},
   "exception": null,
   "input_path": "__notebook__.ipynb",
   "output_path": "__notebook__.ipynb",
   "parameters": {},
   "start_time": "2024-07-18T07:21:10.483151",
   "version": "2.5.0"
  }
 },
 "nbformat": 4,
 "nbformat_minor": 5
}

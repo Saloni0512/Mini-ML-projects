{
 "cells": [
  {
   "cell_type": "code",
   "execution_count": 1,
   "id": "4d8578da",
   "metadata": {
    "_cell_guid": "b1076dfc-b9ad-4769-8c92-a6c4dae69d19",
    "_uuid": "8f2839f25d086af736a60e9eeb907d3b93b6e0e5",
    "execution": {
     "iopub.execute_input": "2024-07-29T15:41:47.305324Z",
     "iopub.status.busy": "2024-07-29T15:41:47.304887Z",
     "iopub.status.idle": "2024-07-29T15:41:49.143596Z",
     "shell.execute_reply": "2024-07-29T15:41:49.142603Z"
    },
    "papermill": {
     "duration": 1.85299,
     "end_time": "2024-07-29T15:41:49.146022",
     "exception": false,
     "start_time": "2024-07-29T15:41:47.293032",
     "status": "completed"
    },
    "tags": []
   },
   "outputs": [
    {
     "name": "stdout",
     "output_type": "stream",
     "text": [
      "/kaggle/input/simple-loan-classification-dataset/loan.csv\n"
     ]
    }
   ],
   "source": [
    "#Importing libraraies\n",
    "import numpy as np \n",
    "import pandas as pd\n",
    "import matplotlib.pyplot as plt\n",
    "import seaborn as sns\n",
    "\n",
    "import os\n",
    "for dirname, _, filenames in os.walk('/kaggle/input'):\n",
    "    for filename in filenames:\n",
    "        print(os.path.join(dirname, filename))\n",
    "\n"
   ]
  },
  {
   "cell_type": "code",
   "execution_count": 2,
   "id": "30caef08",
   "metadata": {
    "execution": {
     "iopub.execute_input": "2024-07-29T15:41:49.168631Z",
     "iopub.status.busy": "2024-07-29T15:41:49.168195Z",
     "iopub.status.idle": "2024-07-29T15:41:49.185927Z",
     "shell.execute_reply": "2024-07-29T15:41:49.185163Z"
    },
    "papermill": {
     "duration": 0.030749,
     "end_time": "2024-07-29T15:41:49.187851",
     "exception": false,
     "start_time": "2024-07-29T15:41:49.157102",
     "status": "completed"
    },
    "tags": []
   },
   "outputs": [],
   "source": [
    "loan = pd.read_csv('/kaggle/input/simple-loan-classification-dataset/loan.csv')"
   ]
  },
  {
   "cell_type": "code",
   "execution_count": 3,
   "id": "0739d6b3",
   "metadata": {
    "execution": {
     "iopub.execute_input": "2024-07-29T15:41:49.208815Z",
     "iopub.status.busy": "2024-07-29T15:41:49.208556Z",
     "iopub.status.idle": "2024-07-29T15:41:49.227056Z",
     "shell.execute_reply": "2024-07-29T15:41:49.226191Z"
    },
    "papermill": {
     "duration": 0.031124,
     "end_time": "2024-07-29T15:41:49.229029",
     "exception": false,
     "start_time": "2024-07-29T15:41:49.197905",
     "status": "completed"
    },
    "tags": []
   },
   "outputs": [
    {
     "data": {
      "text/html": [
       "<div>\n",
       "<style scoped>\n",
       "    .dataframe tbody tr th:only-of-type {\n",
       "        vertical-align: middle;\n",
       "    }\n",
       "\n",
       "    .dataframe tbody tr th {\n",
       "        vertical-align: top;\n",
       "    }\n",
       "\n",
       "    .dataframe thead th {\n",
       "        text-align: right;\n",
       "    }\n",
       "</style>\n",
       "<table border=\"1\" class=\"dataframe\">\n",
       "  <thead>\n",
       "    <tr style=\"text-align: right;\">\n",
       "      <th></th>\n",
       "      <th>age</th>\n",
       "      <th>gender</th>\n",
       "      <th>occupation</th>\n",
       "      <th>education_level</th>\n",
       "      <th>marital_status</th>\n",
       "      <th>income</th>\n",
       "      <th>credit_score</th>\n",
       "      <th>loan_status</th>\n",
       "    </tr>\n",
       "  </thead>\n",
       "  <tbody>\n",
       "    <tr>\n",
       "      <th>0</th>\n",
       "      <td>32</td>\n",
       "      <td>Male</td>\n",
       "      <td>Engineer</td>\n",
       "      <td>Bachelor's</td>\n",
       "      <td>Married</td>\n",
       "      <td>85000</td>\n",
       "      <td>720</td>\n",
       "      <td>Approved</td>\n",
       "    </tr>\n",
       "    <tr>\n",
       "      <th>1</th>\n",
       "      <td>45</td>\n",
       "      <td>Female</td>\n",
       "      <td>Teacher</td>\n",
       "      <td>Master's</td>\n",
       "      <td>Single</td>\n",
       "      <td>62000</td>\n",
       "      <td>680</td>\n",
       "      <td>Approved</td>\n",
       "    </tr>\n",
       "    <tr>\n",
       "      <th>2</th>\n",
       "      <td>28</td>\n",
       "      <td>Male</td>\n",
       "      <td>Student</td>\n",
       "      <td>High School</td>\n",
       "      <td>Single</td>\n",
       "      <td>25000</td>\n",
       "      <td>590</td>\n",
       "      <td>Denied</td>\n",
       "    </tr>\n",
       "    <tr>\n",
       "      <th>3</th>\n",
       "      <td>51</td>\n",
       "      <td>Female</td>\n",
       "      <td>Manager</td>\n",
       "      <td>Bachelor's</td>\n",
       "      <td>Married</td>\n",
       "      <td>105000</td>\n",
       "      <td>780</td>\n",
       "      <td>Approved</td>\n",
       "    </tr>\n",
       "    <tr>\n",
       "      <th>4</th>\n",
       "      <td>36</td>\n",
       "      <td>Male</td>\n",
       "      <td>Accountant</td>\n",
       "      <td>Bachelor's</td>\n",
       "      <td>Married</td>\n",
       "      <td>75000</td>\n",
       "      <td>710</td>\n",
       "      <td>Approved</td>\n",
       "    </tr>\n",
       "  </tbody>\n",
       "</table>\n",
       "</div>"
      ],
      "text/plain": [
       "   age  gender  occupation education_level marital_status  income  \\\n",
       "0   32    Male    Engineer      Bachelor's        Married   85000   \n",
       "1   45  Female     Teacher        Master's         Single   62000   \n",
       "2   28    Male     Student     High School         Single   25000   \n",
       "3   51  Female     Manager      Bachelor's        Married  105000   \n",
       "4   36    Male  Accountant      Bachelor's        Married   75000   \n",
       "\n",
       "   credit_score loan_status  \n",
       "0           720    Approved  \n",
       "1           680    Approved  \n",
       "2           590      Denied  \n",
       "3           780    Approved  \n",
       "4           710    Approved  "
      ]
     },
     "execution_count": 3,
     "metadata": {},
     "output_type": "execute_result"
    }
   ],
   "source": [
    "loan.head()"
   ]
  },
  {
   "cell_type": "markdown",
   "id": "ac380d7e",
   "metadata": {
    "papermill": {
     "duration": 0.0099,
     "end_time": "2024-07-29T15:41:49.249198",
     "exception": false,
     "start_time": "2024-07-29T15:41:49.239298",
     "status": "completed"
    },
    "tags": []
   },
   "source": [
    "In this dataset, `loan_status` is the target variable. We will use the Decision Tree Classification approach to predict whether a given person is eligible for a loan by learning decision rules inferred from the various data features."
   ]
  },
  {
   "cell_type": "markdown",
   "id": "8f9461be",
   "metadata": {
    "papermill": {
     "duration": 0.010006,
     "end_time": "2024-07-29T15:41:49.270065",
     "exception": false,
     "start_time": "2024-07-29T15:41:49.260059",
     "status": "completed"
    },
    "tags": []
   },
   "source": [
    "# Performing some EDA on the dataset"
   ]
  },
  {
   "cell_type": "code",
   "execution_count": 4,
   "id": "1a177840",
   "metadata": {
    "execution": {
     "iopub.execute_input": "2024-07-29T15:41:49.291616Z",
     "iopub.status.busy": "2024-07-29T15:41:49.291299Z",
     "iopub.status.idle": "2024-07-29T15:41:49.312361Z",
     "shell.execute_reply": "2024-07-29T15:41:49.311265Z"
    },
    "papermill": {
     "duration": 0.034165,
     "end_time": "2024-07-29T15:41:49.314285",
     "exception": false,
     "start_time": "2024-07-29T15:41:49.280120",
     "status": "completed"
    },
    "tags": []
   },
   "outputs": [
    {
     "name": "stdout",
     "output_type": "stream",
     "text": [
      "<class 'pandas.core.frame.DataFrame'>\n",
      "RangeIndex: 61 entries, 0 to 60\n",
      "Data columns (total 8 columns):\n",
      " #   Column           Non-Null Count  Dtype \n",
      "---  ------           --------------  ----- \n",
      " 0   age              61 non-null     int64 \n",
      " 1   gender           61 non-null     object\n",
      " 2   occupation       61 non-null     object\n",
      " 3   education_level  61 non-null     object\n",
      " 4   marital_status   61 non-null     object\n",
      " 5   income           61 non-null     int64 \n",
      " 6   credit_score     61 non-null     int64 \n",
      " 7   loan_status      61 non-null     object\n",
      "dtypes: int64(3), object(5)\n",
      "memory usage: 3.9+ KB\n"
     ]
    }
   ],
   "source": [
    "loan.info()"
   ]
  },
  {
   "cell_type": "code",
   "execution_count": 5,
   "id": "e272dc49",
   "metadata": {
    "execution": {
     "iopub.execute_input": "2024-07-29T15:41:49.336771Z",
     "iopub.status.busy": "2024-07-29T15:41:49.336114Z",
     "iopub.status.idle": "2024-07-29T15:41:49.350501Z",
     "shell.execute_reply": "2024-07-29T15:41:49.349611Z"
    },
    "papermill": {
     "duration": 0.028048,
     "end_time": "2024-07-29T15:41:49.352634",
     "exception": false,
     "start_time": "2024-07-29T15:41:49.324586",
     "status": "completed"
    },
    "tags": []
   },
   "outputs": [
    {
     "data": {
      "text/html": [
       "<div>\n",
       "<style scoped>\n",
       "    .dataframe tbody tr th:only-of-type {\n",
       "        vertical-align: middle;\n",
       "    }\n",
       "\n",
       "    .dataframe tbody tr th {\n",
       "        vertical-align: top;\n",
       "    }\n",
       "\n",
       "    .dataframe thead th {\n",
       "        text-align: right;\n",
       "    }\n",
       "</style>\n",
       "<table border=\"1\" class=\"dataframe\">\n",
       "  <thead>\n",
       "    <tr style=\"text-align: right;\">\n",
       "      <th></th>\n",
       "      <th>age</th>\n",
       "      <th>gender</th>\n",
       "      <th>occupation</th>\n",
       "      <th>education_level</th>\n",
       "      <th>marital_status</th>\n",
       "      <th>income</th>\n",
       "      <th>credit_score</th>\n",
       "      <th>loan_status</th>\n",
       "    </tr>\n",
       "  </thead>\n",
       "  <tbody>\n",
       "    <tr>\n",
       "      <th>0</th>\n",
       "      <td>False</td>\n",
       "      <td>False</td>\n",
       "      <td>False</td>\n",
       "      <td>False</td>\n",
       "      <td>False</td>\n",
       "      <td>False</td>\n",
       "      <td>False</td>\n",
       "      <td>False</td>\n",
       "    </tr>\n",
       "    <tr>\n",
       "      <th>1</th>\n",
       "      <td>False</td>\n",
       "      <td>False</td>\n",
       "      <td>False</td>\n",
       "      <td>False</td>\n",
       "      <td>False</td>\n",
       "      <td>False</td>\n",
       "      <td>False</td>\n",
       "      <td>False</td>\n",
       "    </tr>\n",
       "    <tr>\n",
       "      <th>2</th>\n",
       "      <td>False</td>\n",
       "      <td>False</td>\n",
       "      <td>False</td>\n",
       "      <td>False</td>\n",
       "      <td>False</td>\n",
       "      <td>False</td>\n",
       "      <td>False</td>\n",
       "      <td>False</td>\n",
       "    </tr>\n",
       "    <tr>\n",
       "      <th>3</th>\n",
       "      <td>False</td>\n",
       "      <td>False</td>\n",
       "      <td>False</td>\n",
       "      <td>False</td>\n",
       "      <td>False</td>\n",
       "      <td>False</td>\n",
       "      <td>False</td>\n",
       "      <td>False</td>\n",
       "    </tr>\n",
       "    <tr>\n",
       "      <th>4</th>\n",
       "      <td>False</td>\n",
       "      <td>False</td>\n",
       "      <td>False</td>\n",
       "      <td>False</td>\n",
       "      <td>False</td>\n",
       "      <td>False</td>\n",
       "      <td>False</td>\n",
       "      <td>False</td>\n",
       "    </tr>\n",
       "    <tr>\n",
       "      <th>...</th>\n",
       "      <td>...</td>\n",
       "      <td>...</td>\n",
       "      <td>...</td>\n",
       "      <td>...</td>\n",
       "      <td>...</td>\n",
       "      <td>...</td>\n",
       "      <td>...</td>\n",
       "      <td>...</td>\n",
       "    </tr>\n",
       "    <tr>\n",
       "      <th>56</th>\n",
       "      <td>False</td>\n",
       "      <td>False</td>\n",
       "      <td>False</td>\n",
       "      <td>False</td>\n",
       "      <td>False</td>\n",
       "      <td>False</td>\n",
       "      <td>False</td>\n",
       "      <td>False</td>\n",
       "    </tr>\n",
       "    <tr>\n",
       "      <th>57</th>\n",
       "      <td>False</td>\n",
       "      <td>False</td>\n",
       "      <td>False</td>\n",
       "      <td>False</td>\n",
       "      <td>False</td>\n",
       "      <td>False</td>\n",
       "      <td>False</td>\n",
       "      <td>False</td>\n",
       "    </tr>\n",
       "    <tr>\n",
       "      <th>58</th>\n",
       "      <td>False</td>\n",
       "      <td>False</td>\n",
       "      <td>False</td>\n",
       "      <td>False</td>\n",
       "      <td>False</td>\n",
       "      <td>False</td>\n",
       "      <td>False</td>\n",
       "      <td>False</td>\n",
       "    </tr>\n",
       "    <tr>\n",
       "      <th>59</th>\n",
       "      <td>False</td>\n",
       "      <td>False</td>\n",
       "      <td>False</td>\n",
       "      <td>False</td>\n",
       "      <td>False</td>\n",
       "      <td>False</td>\n",
       "      <td>False</td>\n",
       "      <td>False</td>\n",
       "    </tr>\n",
       "    <tr>\n",
       "      <th>60</th>\n",
       "      <td>False</td>\n",
       "      <td>False</td>\n",
       "      <td>False</td>\n",
       "      <td>False</td>\n",
       "      <td>False</td>\n",
       "      <td>False</td>\n",
       "      <td>False</td>\n",
       "      <td>False</td>\n",
       "    </tr>\n",
       "  </tbody>\n",
       "</table>\n",
       "<p>61 rows × 8 columns</p>\n",
       "</div>"
      ],
      "text/plain": [
       "      age  gender  occupation  education_level  marital_status  income  \\\n",
       "0   False   False       False            False           False   False   \n",
       "1   False   False       False            False           False   False   \n",
       "2   False   False       False            False           False   False   \n",
       "3   False   False       False            False           False   False   \n",
       "4   False   False       False            False           False   False   \n",
       "..    ...     ...         ...              ...             ...     ...   \n",
       "56  False   False       False            False           False   False   \n",
       "57  False   False       False            False           False   False   \n",
       "58  False   False       False            False           False   False   \n",
       "59  False   False       False            False           False   False   \n",
       "60  False   False       False            False           False   False   \n",
       "\n",
       "    credit_score  loan_status  \n",
       "0          False        False  \n",
       "1          False        False  \n",
       "2          False        False  \n",
       "3          False        False  \n",
       "4          False        False  \n",
       "..           ...          ...  \n",
       "56         False        False  \n",
       "57         False        False  \n",
       "58         False        False  \n",
       "59         False        False  \n",
       "60         False        False  \n",
       "\n",
       "[61 rows x 8 columns]"
      ]
     },
     "execution_count": 5,
     "metadata": {},
     "output_type": "execute_result"
    }
   ],
   "source": [
    "loan.isnull()"
   ]
  },
  {
   "cell_type": "markdown",
   "id": "46c84534",
   "metadata": {
    "papermill": {
     "duration": 0.010325,
     "end_time": "2024-07-29T15:41:49.373569",
     "exception": false,
     "start_time": "2024-07-29T15:41:49.363244",
     "status": "completed"
    },
    "tags": []
   },
   "source": [
    "Hence, it is clear that there are no null values in the dataset"
   ]
  },
  {
   "cell_type": "code",
   "execution_count": 6,
   "id": "09d6f760",
   "metadata": {
    "execution": {
     "iopub.execute_input": "2024-07-29T15:41:49.396370Z",
     "iopub.status.busy": "2024-07-29T15:41:49.395689Z",
     "iopub.status.idle": "2024-07-29T15:41:49.413281Z",
     "shell.execute_reply": "2024-07-29T15:41:49.412459Z"
    },
    "papermill": {
     "duration": 0.030856,
     "end_time": "2024-07-29T15:41:49.415126",
     "exception": false,
     "start_time": "2024-07-29T15:41:49.384270",
     "status": "completed"
    },
    "tags": []
   },
   "outputs": [
    {
     "data": {
      "text/html": [
       "<div>\n",
       "<style scoped>\n",
       "    .dataframe tbody tr th:only-of-type {\n",
       "        vertical-align: middle;\n",
       "    }\n",
       "\n",
       "    .dataframe tbody tr th {\n",
       "        vertical-align: top;\n",
       "    }\n",
       "\n",
       "    .dataframe thead th {\n",
       "        text-align: right;\n",
       "    }\n",
       "</style>\n",
       "<table border=\"1\" class=\"dataframe\">\n",
       "  <thead>\n",
       "    <tr style=\"text-align: right;\">\n",
       "      <th></th>\n",
       "      <th>age</th>\n",
       "      <th>income</th>\n",
       "      <th>credit_score</th>\n",
       "    </tr>\n",
       "  </thead>\n",
       "  <tbody>\n",
       "    <tr>\n",
       "      <th>count</th>\n",
       "      <td>61.000000</td>\n",
       "      <td>61.000000</td>\n",
       "      <td>61.000000</td>\n",
       "    </tr>\n",
       "    <tr>\n",
       "      <th>mean</th>\n",
       "      <td>37.081967</td>\n",
       "      <td>78983.606557</td>\n",
       "      <td>709.836066</td>\n",
       "    </tr>\n",
       "    <tr>\n",
       "      <th>std</th>\n",
       "      <td>8.424755</td>\n",
       "      <td>33772.025802</td>\n",
       "      <td>72.674888</td>\n",
       "    </tr>\n",
       "    <tr>\n",
       "      <th>min</th>\n",
       "      <td>24.000000</td>\n",
       "      <td>25000.000000</td>\n",
       "      <td>560.000000</td>\n",
       "    </tr>\n",
       "    <tr>\n",
       "      <th>25%</th>\n",
       "      <td>30.000000</td>\n",
       "      <td>52000.000000</td>\n",
       "      <td>650.000000</td>\n",
       "    </tr>\n",
       "    <tr>\n",
       "      <th>50%</th>\n",
       "      <td>36.000000</td>\n",
       "      <td>78000.000000</td>\n",
       "      <td>720.000000</td>\n",
       "    </tr>\n",
       "    <tr>\n",
       "      <th>75%</th>\n",
       "      <td>43.000000</td>\n",
       "      <td>98000.000000</td>\n",
       "      <td>770.000000</td>\n",
       "    </tr>\n",
       "    <tr>\n",
       "      <th>max</th>\n",
       "      <td>55.000000</td>\n",
       "      <td>180000.000000</td>\n",
       "      <td>830.000000</td>\n",
       "    </tr>\n",
       "  </tbody>\n",
       "</table>\n",
       "</div>"
      ],
      "text/plain": [
       "             age         income  credit_score\n",
       "count  61.000000      61.000000     61.000000\n",
       "mean   37.081967   78983.606557    709.836066\n",
       "std     8.424755   33772.025802     72.674888\n",
       "min    24.000000   25000.000000    560.000000\n",
       "25%    30.000000   52000.000000    650.000000\n",
       "50%    36.000000   78000.000000    720.000000\n",
       "75%    43.000000   98000.000000    770.000000\n",
       "max    55.000000  180000.000000    830.000000"
      ]
     },
     "execution_count": 6,
     "metadata": {},
     "output_type": "execute_result"
    }
   ],
   "source": [
    "loan.describe()"
   ]
  },
  {
   "cell_type": "markdown",
   "id": "5dd3f2ce",
   "metadata": {
    "papermill": {
     "duration": 0.010619,
     "end_time": "2024-07-29T15:41:49.436734",
     "exception": false,
     "start_time": "2024-07-29T15:41:49.426115",
     "status": "completed"
    },
    "tags": []
   },
   "source": [
    "Here, `age` `income` and `credit_score` are the numerical attributes. So these attributes will play a significant role in determining the outcome of the decision tree."
   ]
  },
  {
   "cell_type": "markdown",
   "id": "42c49052",
   "metadata": {
    "papermill": {
     "duration": 0.010422,
     "end_time": "2024-07-29T15:41:49.457873",
     "exception": false,
     "start_time": "2024-07-29T15:41:49.447451",
     "status": "completed"
    },
    "tags": []
   },
   "source": [
    "# Feature Engineering \n",
    "Now, we need to find that which features in the dataset play an important role in improving the accuracy of the model. "
   ]
  },
  {
   "cell_type": "code",
   "execution_count": 7,
   "id": "641abd07",
   "metadata": {
    "execution": {
     "iopub.execute_input": "2024-07-29T15:41:49.480997Z",
     "iopub.status.busy": "2024-07-29T15:41:49.480292Z",
     "iopub.status.idle": "2024-07-29T15:41:49.487946Z",
     "shell.execute_reply": "2024-07-29T15:41:49.487105Z"
    },
    "papermill": {
     "duration": 0.021359,
     "end_time": "2024-07-29T15:41:49.489963",
     "exception": false,
     "start_time": "2024-07-29T15:41:49.468604",
     "status": "completed"
    },
    "tags": []
   },
   "outputs": [],
   "source": [
    "X = loan.copy()\n",
    "Y = X.pop('loan_status') # loan_status is the target attribute\n",
    "\n",
    "for colname in X.select_dtypes(\"object\"):\n",
    "    X[colname], _ = X[colname].factorize()\n",
    "\n",
    "discrete_features = X.dtypes == str    "
   ]
  },
  {
   "cell_type": "code",
   "execution_count": 8,
   "id": "13ade26f",
   "metadata": {
    "execution": {
     "iopub.execute_input": "2024-07-29T15:41:49.513880Z",
     "iopub.status.busy": "2024-07-29T15:41:49.513310Z",
     "iopub.status.idle": "2024-07-29T15:41:49.944709Z",
     "shell.execute_reply": "2024-07-29T15:41:49.943632Z"
    },
    "papermill": {
     "duration": 0.445199,
     "end_time": "2024-07-29T15:41:49.946951",
     "exception": false,
     "start_time": "2024-07-29T15:41:49.501752",
     "status": "completed"
    },
    "tags": []
   },
   "outputs": [
    {
     "data": {
      "text/plain": [
       "credit_score       0.478155\n",
       "income             0.357523\n",
       "marital_status     0.277359\n",
       "education_level    0.276516\n",
       "age                0.265012\n",
       "gender             0.027813\n",
       "occupation         0.000000\n",
       "Name: MI Scores, dtype: float64"
      ]
     },
     "execution_count": 8,
     "metadata": {},
     "output_type": "execute_result"
    }
   ],
   "source": [
    "from sklearn.feature_selection import mutual_info_classif\n",
    "\n",
    "def make_mi_scores(X, Y, discrete_features):\n",
    "    mi_scores = mutual_info_classif(X, Y, discrete_features=discrete_features)\n",
    "    mi_scores = pd.Series(mi_scores, name=\"MI Scores\", index=X.columns)\n",
    "    mi_scores = mi_scores.sort_values(ascending=False)\n",
    "    return mi_scores\n",
    "\n",
    "mi_scores = make_mi_scores(X, Y, discrete_features)\n",
    "mi_scores[::1]  # show a few features with their MI scores\n"
   ]
  },
  {
   "cell_type": "markdown",
   "id": "d6f2fedb",
   "metadata": {
    "papermill": {
     "duration": 0.010874,
     "end_time": "2024-07-29T15:41:49.969021",
     "exception": false,
     "start_time": "2024-07-29T15:41:49.958147",
     "status": "completed"
    },
    "tags": []
   },
   "source": [
    "Now, lets do some data visualisation to have a better understanding of the above scores."
   ]
  },
  {
   "cell_type": "code",
   "execution_count": 9,
   "id": "c56a4740",
   "metadata": {
    "execution": {
     "iopub.execute_input": "2024-07-29T15:41:49.992125Z",
     "iopub.status.busy": "2024-07-29T15:41:49.991804Z",
     "iopub.status.idle": "2024-07-29T15:41:50.285284Z",
     "shell.execute_reply": "2024-07-29T15:41:50.284298Z"
    },
    "papermill": {
     "duration": 0.307673,
     "end_time": "2024-07-29T15:41:50.287618",
     "exception": false,
     "start_time": "2024-07-29T15:41:49.979945",
     "status": "completed"
    },
    "tags": []
   },
   "outputs": [
    {
     "data": {
      "image/png": "[encoded data removed]",
      "text/plain": [
       "<Figure size 800x500 with 1 Axes>"
      ]
     },
     "metadata": {},
     "output_type": "display_data"
    }
   ],
   "source": [
    "def plot_mi_scores(scores):\n",
    "    scores = scores.sort_values(ascending=True)\n",
    "    width = np.arange(len(scores))\n",
    "    ticks = list(scores.index)\n",
    "    plt.barh(width, scores)\n",
    "    plt.yticks(width, ticks)\n",
    "    plt.title(\"Mutual Information Scores\")\n",
    "\n",
    "\n",
    "plt.figure(dpi=100, figsize=(8, 5))\n",
    "plot_mi_scores(mi_scores)"
   ]
  },
  {
   "cell_type": "markdown",
   "id": "641b447a",
   "metadata": {
    "papermill": {
     "duration": 0.011158,
     "end_time": "2024-07-29T15:41:50.310675",
     "exception": false,
     "start_time": "2024-07-29T15:41:50.299517",
     "status": "completed"
    },
    "tags": []
   },
   "source": [
    "Here, we can clearly see that `credit_score` exhibits a strong relationship with `loan_status` the target."
   ]
  },
  {
   "cell_type": "markdown",
   "id": "4f5d98bd",
   "metadata": {
    "papermill": {
     "duration": 0.011102,
     "end_time": "2024-07-29T15:41:50.333248",
     "exception": false,
     "start_time": "2024-07-29T15:41:50.322146",
     "status": "completed"
    },
    "tags": []
   },
   "source": [
    "# Model Training"
   ]
  },
  {
   "cell_type": "markdown",
   "id": "b0905e17",
   "metadata": {
    "papermill": {
     "duration": 0.010964,
     "end_time": "2024-07-29T15:41:50.355460",
     "exception": false,
     "start_time": "2024-07-29T15:41:50.344496",
     "status": "completed"
    },
    "tags": []
   },
   "source": [
    "First, lets construct a tree using all the features in the loan dataset."
   ]
  },
  {
   "cell_type": "code",
   "execution_count": 10,
   "id": "b112f8c5",
   "metadata": {
    "execution": {
     "iopub.execute_input": "2024-07-29T15:41:50.379669Z",
     "iopub.status.busy": "2024-07-29T15:41:50.379322Z",
     "iopub.status.idle": "2024-07-29T15:41:50.409233Z",
     "shell.execute_reply": "2024-07-29T15:41:50.408170Z"
    },
    "papermill": {
     "duration": 0.044325,
     "end_time": "2024-07-29T15:41:50.411175",
     "exception": false,
     "start_time": "2024-07-29T15:41:50.366850",
     "status": "completed"
    },
    "tags": []
   },
   "outputs": [
    {
     "data": {
      "text/html": [
       "<div>\n",
       "<style scoped>\n",
       "    .dataframe tbody tr th:only-of-type {\n",
       "        vertical-align: middle;\n",
       "    }\n",
       "\n",
       "    .dataframe tbody tr th {\n",
       "        vertical-align: top;\n",
       "    }\n",
       "\n",
       "    .dataframe thead th {\n",
       "        text-align: right;\n",
       "    }\n",
       "</style>\n",
       "<table border=\"1\" class=\"dataframe\">\n",
       "  <thead>\n",
       "    <tr style=\"text-align: right;\">\n",
       "      <th></th>\n",
       "      <th>age</th>\n",
       "      <th>income</th>\n",
       "      <th>credit_score</th>\n",
       "      <th>loan_status</th>\n",
       "      <th>marital_status_Married</th>\n",
       "      <th>marital_status_Single</th>\n",
       "      <th>gender_Female</th>\n",
       "      <th>gender_Male</th>\n",
       "      <th>education_level_Associate's</th>\n",
       "      <th>education_level_Bachelor's</th>\n",
       "      <th>...</th>\n",
       "      <th>occupation_Researcher</th>\n",
       "      <th>occupation_Sales</th>\n",
       "      <th>occupation_Salesman</th>\n",
       "      <th>occupation_Server</th>\n",
       "      <th>occupation_Software</th>\n",
       "      <th>occupation_Student</th>\n",
       "      <th>occupation_Stylist</th>\n",
       "      <th>occupation_Teacher</th>\n",
       "      <th>occupation_Veterinarian</th>\n",
       "      <th>occupation_Writer</th>\n",
       "    </tr>\n",
       "  </thead>\n",
       "  <tbody>\n",
       "    <tr>\n",
       "      <th>0</th>\n",
       "      <td>32</td>\n",
       "      <td>85000</td>\n",
       "      <td>720</td>\n",
       "      <td>Approved</td>\n",
       "      <td>1</td>\n",
       "      <td>0</td>\n",
       "      <td>0</td>\n",
       "      <td>1</td>\n",
       "      <td>0</td>\n",
       "      <td>1</td>\n",
       "      <td>...</td>\n",
       "      <td>0</td>\n",
       "      <td>0</td>\n",
       "      <td>0</td>\n",
       "      <td>0</td>\n",
       "      <td>0</td>\n",
       "      <td>0</td>\n",
       "      <td>0</td>\n",
       "      <td>0</td>\n",
       "      <td>0</td>\n",
       "      <td>0</td>\n",
       "    </tr>\n",
       "    <tr>\n",
       "      <th>1</th>\n",
       "      <td>45</td>\n",
       "      <td>62000</td>\n",
       "      <td>680</td>\n",
       "      <td>Approved</td>\n",
       "      <td>0</td>\n",
       "      <td>1</td>\n",
       "      <td>1</td>\n",
       "      <td>0</td>\n",
       "      <td>0</td>\n",
       "      <td>0</td>\n",
       "      <td>...</td>\n",
       "      <td>0</td>\n",
       "      <td>0</td>\n",
       "      <td>0</td>\n",
       "      <td>0</td>\n",
       "      <td>0</td>\n",
       "      <td>0</td>\n",
       "      <td>0</td>\n",
       "      <td>1</td>\n",
       "      <td>0</td>\n",
       "      <td>0</td>\n",
       "    </tr>\n",
       "    <tr>\n",
       "      <th>2</th>\n",
       "      <td>28</td>\n",
       "      <td>25000</td>\n",
       "      <td>590</td>\n",
       "      <td>Denied</td>\n",
       "      <td>0</td>\n",
       "      <td>1</td>\n",
       "      <td>0</td>\n",
       "      <td>1</td>\n",
       "      <td>0</td>\n",
       "      <td>0</td>\n",
       "      <td>...</td>\n",
       "      <td>0</td>\n",
       "      <td>0</td>\n",
       "      <td>0</td>\n",
       "      <td>0</td>\n",
       "      <td>0</td>\n",
       "      <td>1</td>\n",
       "      <td>0</td>\n",
       "      <td>0</td>\n",
       "      <td>0</td>\n",
       "      <td>0</td>\n",
       "    </tr>\n",
       "    <tr>\n",
       "      <th>3</th>\n",
       "      <td>51</td>\n",
       "      <td>105000</td>\n",
       "      <td>780</td>\n",
       "      <td>Approved</td>\n",
       "      <td>1</td>\n",
       "      <td>0</td>\n",
       "      <td>1</td>\n",
       "      <td>0</td>\n",
       "      <td>0</td>\n",
       "      <td>1</td>\n",
       "      <td>...</td>\n",
       "      <td>0</td>\n",
       "      <td>0</td>\n",
       "      <td>0</td>\n",
       "      <td>0</td>\n",
       "      <td>0</td>\n",
       "      <td>0</td>\n",
       "      <td>0</td>\n",
       "      <td>0</td>\n",
       "      <td>0</td>\n",
       "      <td>0</td>\n",
       "    </tr>\n",
       "    <tr>\n",
       "      <th>4</th>\n",
       "      <td>36</td>\n",
       "      <td>75000</td>\n",
       "      <td>710</td>\n",
       "      <td>Approved</td>\n",
       "      <td>1</td>\n",
       "      <td>0</td>\n",
       "      <td>0</td>\n",
       "      <td>1</td>\n",
       "      <td>0</td>\n",
       "      <td>1</td>\n",
       "      <td>...</td>\n",
       "      <td>0</td>\n",
       "      <td>0</td>\n",
       "      <td>0</td>\n",
       "      <td>0</td>\n",
       "      <td>0</td>\n",
       "      <td>0</td>\n",
       "      <td>0</td>\n",
       "      <td>0</td>\n",
       "      <td>0</td>\n",
       "      <td>0</td>\n",
       "    </tr>\n",
       "    <tr>\n",
       "      <th>...</th>\n",
       "      <td>...</td>\n",
       "      <td>...</td>\n",
       "      <td>...</td>\n",
       "      <td>...</td>\n",
       "      <td>...</td>\n",
       "      <td>...</td>\n",
       "      <td>...</td>\n",
       "      <td>...</td>\n",
       "      <td>...</td>\n",
       "      <td>...</td>\n",
       "      <td>...</td>\n",
       "      <td>...</td>\n",
       "      <td>...</td>\n",
       "      <td>...</td>\n",
       "      <td>...</td>\n",
       "      <td>...</td>\n",
       "      <td>...</td>\n",
       "      <td>...</td>\n",
       "      <td>...</td>\n",
       "      <td>...</td>\n",
       "      <td>...</td>\n",
       "    </tr>\n",
       "    <tr>\n",
       "      <th>56</th>\n",
       "      <td>39</td>\n",
       "      <td>100000</td>\n",
       "      <td>770</td>\n",
       "      <td>Approved</td>\n",
       "      <td>1</td>\n",
       "      <td>0</td>\n",
       "      <td>0</td>\n",
       "      <td>1</td>\n",
       "      <td>0</td>\n",
       "      <td>0</td>\n",
       "      <td>...</td>\n",
       "      <td>0</td>\n",
       "      <td>0</td>\n",
       "      <td>0</td>\n",
       "      <td>0</td>\n",
       "      <td>0</td>\n",
       "      <td>0</td>\n",
       "      <td>0</td>\n",
       "      <td>0</td>\n",
       "      <td>0</td>\n",
       "      <td>0</td>\n",
       "    </tr>\n",
       "    <tr>\n",
       "      <th>57</th>\n",
       "      <td>25</td>\n",
       "      <td>32000</td>\n",
       "      <td>570</td>\n",
       "      <td>Denied</td>\n",
       "      <td>0</td>\n",
       "      <td>1</td>\n",
       "      <td>1</td>\n",
       "      <td>0</td>\n",
       "      <td>0</td>\n",
       "      <td>0</td>\n",
       "      <td>...</td>\n",
       "      <td>0</td>\n",
       "      <td>0</td>\n",
       "      <td>0</td>\n",
       "      <td>0</td>\n",
       "      <td>0</td>\n",
       "      <td>0</td>\n",
       "      <td>0</td>\n",
       "      <td>0</td>\n",
       "      <td>0</td>\n",
       "      <td>0</td>\n",
       "    </tr>\n",
       "    <tr>\n",
       "      <th>58</th>\n",
       "      <td>43</td>\n",
       "      <td>95000</td>\n",
       "      <td>760</td>\n",
       "      <td>Approved</td>\n",
       "      <td>1</td>\n",
       "      <td>0</td>\n",
       "      <td>0</td>\n",
       "      <td>1</td>\n",
       "      <td>0</td>\n",
       "      <td>1</td>\n",
       "      <td>...</td>\n",
       "      <td>0</td>\n",
       "      <td>0</td>\n",
       "      <td>0</td>\n",
       "      <td>0</td>\n",
       "      <td>0</td>\n",
       "      <td>0</td>\n",
       "      <td>0</td>\n",
       "      <td>0</td>\n",
       "      <td>0</td>\n",
       "      <td>0</td>\n",
       "    </tr>\n",
       "    <tr>\n",
       "      <th>59</th>\n",
       "      <td>30</td>\n",
       "      <td>55000</td>\n",
       "      <td>650</td>\n",
       "      <td>Approved</td>\n",
       "      <td>0</td>\n",
       "      <td>1</td>\n",
       "      <td>1</td>\n",
       "      <td>0</td>\n",
       "      <td>0</td>\n",
       "      <td>0</td>\n",
       "      <td>...</td>\n",
       "      <td>0</td>\n",
       "      <td>0</td>\n",
       "      <td>0</td>\n",
       "      <td>0</td>\n",
       "      <td>0</td>\n",
       "      <td>0</td>\n",
       "      <td>0</td>\n",
       "      <td>0</td>\n",
       "      <td>0</td>\n",
       "      <td>1</td>\n",
       "    </tr>\n",
       "    <tr>\n",
       "      <th>60</th>\n",
       "      <td>38</td>\n",
       "      <td>65000</td>\n",
       "      <td>700</td>\n",
       "      <td>Approved</td>\n",
       "      <td>1</td>\n",
       "      <td>0</td>\n",
       "      <td>0</td>\n",
       "      <td>1</td>\n",
       "      <td>1</td>\n",
       "      <td>0</td>\n",
       "      <td>...</td>\n",
       "      <td>0</td>\n",
       "      <td>0</td>\n",
       "      <td>0</td>\n",
       "      <td>0</td>\n",
       "      <td>0</td>\n",
       "      <td>0</td>\n",
       "      <td>0</td>\n",
       "      <td>0</td>\n",
       "      <td>0</td>\n",
       "      <td>0</td>\n",
       "    </tr>\n",
       "  </tbody>\n",
       "</table>\n",
       "<p>61 rows × 51 columns</p>\n",
       "</div>"
      ],
      "text/plain": [
       "    age  income  credit_score loan_status  marital_status_Married  \\\n",
       "0    32   85000           720    Approved                       1   \n",
       "1    45   62000           680    Approved                       0   \n",
       "2    28   25000           590      Denied                       0   \n",
       "3    51  105000           780    Approved                       1   \n",
       "4    36   75000           710    Approved                       1   \n",
       "..  ...     ...           ...         ...                     ...   \n",
       "56   39  100000           770    Approved                       1   \n",
       "57   25   32000           570      Denied                       0   \n",
       "58   43   95000           760    Approved                       1   \n",
       "59   30   55000           650    Approved                       0   \n",
       "60   38   65000           700    Approved                       1   \n",
       "\n",
       "    marital_status_Single  gender_Female  gender_Male  \\\n",
       "0                       0              0            1   \n",
       "1                       1              1            0   \n",
       "2                       1              0            1   \n",
       "3                       0              1            0   \n",
       "4                       0              0            1   \n",
       "..                    ...            ...          ...   \n",
       "56                      0              0            1   \n",
       "57                      1              1            0   \n",
       "58                      0              0            1   \n",
       "59                      1              1            0   \n",
       "60                      0              0            1   \n",
       "\n",
       "    education_level_Associate's  education_level_Bachelor's  ...  \\\n",
       "0                             0                           1  ...   \n",
       "1                             0                           0  ...   \n",
       "2                             0                           0  ...   \n",
       "3                             0                           1  ...   \n",
       "4                             0                           1  ...   \n",
       "..                          ...                         ...  ...   \n",
       "56                            0                           0  ...   \n",
       "57                            0                           0  ...   \n",
       "58                            0                           1  ...   \n",
       "59                            0                           0  ...   \n",
       "60                            1                           0  ...   \n",
       "\n",
       "    occupation_Researcher  occupation_Sales  occupation_Salesman  \\\n",
       "0                       0                 0                    0   \n",
       "1                       0                 0                    0   \n",
       "2                       0                 0                    0   \n",
       "3                       0                 0                    0   \n",
       "4                       0                 0                    0   \n",
       "..                    ...               ...                  ...   \n",
       "56                      0                 0                    0   \n",
       "57                      0                 0                    0   \n",
       "58                      0                 0                    0   \n",
       "59                      0                 0                    0   \n",
       "60                      0                 0                    0   \n",
       "\n",
       "    occupation_Server  occupation_Software  occupation_Student  \\\n",
       "0                   0                    0                   0   \n",
       "1                   0                    0                   0   \n",
       "2                   0                    0                   1   \n",
       "3                   0                    0                   0   \n",
       "4                   0                    0                   0   \n",
       "..                ...                  ...                 ...   \n",
       "56                  0                    0                   0   \n",
       "57                  0                    0                   0   \n",
       "58                  0                    0                   0   \n",
       "59                  0                    0                   0   \n",
       "60                  0                    0                   0   \n",
       "\n",
       "    occupation_Stylist  occupation_Teacher  occupation_Veterinarian  \\\n",
       "0                    0                   0                        0   \n",
       "1                    0                   1                        0   \n",
       "2                    0                   0                        0   \n",
       "3                    0                   0                        0   \n",
       "4                    0                   0                        0   \n",
       "..                 ...                 ...                      ...   \n",
       "56                   0                   0                        0   \n",
       "57                   0                   0                        0   \n",
       "58                   0                   0                        0   \n",
       "59                   0                   0                        0   \n",
       "60                   0                   0                        0   \n",
       "\n",
       "    occupation_Writer  \n",
       "0                   0  \n",
       "1                   0  \n",
       "2                   0  \n",
       "3                   0  \n",
       "4                   0  \n",
       "..                ...  \n",
       "56                  0  \n",
       "57                  0  \n",
       "58                  0  \n",
       "59                  1  \n",
       "60                  0  \n",
       "\n",
       "[61 rows x 51 columns]"
      ]
     },
     "execution_count": 10,
     "metadata": {},
     "output_type": "execute_result"
    }
   ],
   "source": [
    "#Encoding the categorical features\n",
    "\n",
    "df_encoded = pd.get_dummies(loan, columns=[ 'marital_status','gender','education_level','occupation'], dtype = int)\n",
    "df_encoded"
   ]
  },
  {
   "cell_type": "code",
   "execution_count": 11,
   "id": "86b8f812",
   "metadata": {
    "execution": {
     "iopub.execute_input": "2024-07-29T15:41:50.436378Z",
     "iopub.status.busy": "2024-07-29T15:41:50.436055Z",
     "iopub.status.idle": "2024-07-29T15:41:50.474907Z",
     "shell.execute_reply": "2024-07-29T15:41:50.473965Z"
    },
    "papermill": {
     "duration": 0.053838,
     "end_time": "2024-07-29T15:41:50.477026",
     "exception": false,
     "start_time": "2024-07-29T15:41:50.423188",
     "status": "completed"
    },
    "tags": []
   },
   "outputs": [],
   "source": [
    "from sklearn.model_selection import train_test_split\n",
    "from sklearn.tree import DecisionTreeClassifier, plot_tree\n",
    "\n",
    "x = df_encoded.drop('loan_status', axis = 1)\n",
    "y = df_encoded['loan_status']\n",
    "\n",
    "X_train, X_test, y_train, y_test = train_test_split(x, y, test_size=.1, random_state=42)\n",
    " \n",
    "clf = DecisionTreeClassifier(criterion='gini',max_depth = 5, min_samples_leaf=4 )\n",
    "clf = clf.fit(X_train, y_train)\n"
   ]
  },
  {
   "cell_type": "code",
   "execution_count": 12,
   "id": "2011d7c0",
   "metadata": {
    "execution": {
     "iopub.execute_input": "2024-07-29T15:41:50.503602Z",
     "iopub.status.busy": "2024-07-29T15:41:50.503280Z",
     "iopub.status.idle": "2024-07-29T15:41:50.753095Z",
     "shell.execute_reply": "2024-07-29T15:41:50.752159Z"
    },
    "papermill": {
     "duration": 0.266631,
     "end_time": "2024-07-29T15:41:50.755913",
     "exception": false,
     "start_time": "2024-07-29T15:41:50.489282",
     "status": "completed"
    },
    "tags": []
   },
   "outputs": [
    {
     "data": {
      "image/png": "[encoded data removed]",
      "text/plain": [
       "<Figure size 2000x1000 with 1 Axes>"
      ]
     },
     "metadata": {},
     "output_type": "display_data"
    }
   ],
   "source": [
    "def plot_decision_tree(model, feature_names, class_names):\n",
    "    tree = plot_tree(model, feature_names = feature_names, class_names = class_names,\n",
    "                     rounded = True, proportion = True, precision = 2, filled = True, fontsize=10)\n",
    "    \n",
    "    return tree\n",
    "\n",
    "plt.figure(figsize=(20,10))\n",
    "plot_decision_tree(clf, x.columns, clf.classes_)\n",
    "plt.show()"
   ]
  },
  {
   "cell_type": "markdown",
   "id": "4099304f",
   "metadata": {
    "papermill": {
     "duration": 0.012898,
     "end_time": "2024-07-29T15:41:50.782569",
     "exception": false,
     "start_time": "2024-07-29T15:41:50.769671",
     "status": "completed"
    },
    "tags": []
   },
   "source": [
    "Here, `income` is the root-node of the tree and there are 2 leaf-nodes."
   ]
  },
  {
   "cell_type": "code",
   "execution_count": 13,
   "id": "a279f024",
   "metadata": {
    "execution": {
     "iopub.execute_input": "2024-07-29T15:41:50.809473Z",
     "iopub.status.busy": "2024-07-29T15:41:50.809145Z",
     "iopub.status.idle": "2024-07-29T15:41:50.814481Z",
     "shell.execute_reply": "2024-07-29T15:41:50.813670Z"
    },
    "papermill": {
     "duration": 0.021211,
     "end_time": "2024-07-29T15:41:50.816664",
     "exception": false,
     "start_time": "2024-07-29T15:41:50.795453",
     "status": "completed"
    },
    "tags": []
   },
   "outputs": [],
   "source": [
    "X_test = df_encoded.drop('loan_status', axis=1)\n",
    "y_test = df_encoded.loan_status"
   ]
  },
  {
   "cell_type": "code",
   "execution_count": 14,
   "id": "7eac283c",
   "metadata": {
    "execution": {
     "iopub.execute_input": "2024-07-29T15:41:50.842880Z",
     "iopub.status.busy": "2024-07-29T15:41:50.842610Z",
     "iopub.status.idle": "2024-07-29T15:41:50.848678Z",
     "shell.execute_reply": "2024-07-29T15:41:50.847871Z"
    },
    "papermill": {
     "duration": 0.021454,
     "end_time": "2024-07-29T15:41:50.850768",
     "exception": false,
     "start_time": "2024-07-29T15:41:50.829314",
     "status": "completed"
    },
    "tags": []
   },
   "outputs": [
    {
     "data": {
      "text/plain": [
       "Index(['age', 'income', 'credit_score', 'loan_status',\n",
       "       'marital_status_Married', 'marital_status_Single', 'gender_Female',\n",
       "       'gender_Male', 'education_level_Associate's',\n",
       "       'education_level_Bachelor's', 'education_level_Doctoral',\n",
       "       'education_level_High School', 'education_level_Master's',\n",
       "       'occupation_Accountant', 'occupation_Analyst', 'occupation_Architect',\n",
       "       'occupation_Artist', 'occupation_Banker', 'occupation_Chef',\n",
       "       'occupation_Consultant', 'occupation_Dentist', 'occupation_Designer',\n",
       "       'occupation_Doctor', 'occupation_Editor', 'occupation_Electrician',\n",
       "       'occupation_Engineer', 'occupation_HR', 'occupation_IT',\n",
       "       'occupation_Lawyer', 'occupation_Manager', 'occupation_Marketing',\n",
       "       'occupation_Musician', 'occupation_Nurse', 'occupation_Pharmacist',\n",
       "       'occupation_Photographer', 'occupation_Pilot', 'occupation_Professor',\n",
       "       'occupation_Programmer', 'occupation_Psychologist',\n",
       "       'occupation_Realtor', 'occupation_Receptionist',\n",
       "       'occupation_Researcher', 'occupation_Sales', 'occupation_Salesman',\n",
       "       'occupation_Server', 'occupation_Software', 'occupation_Student',\n",
       "       'occupation_Stylist', 'occupation_Teacher', 'occupation_Veterinarian',\n",
       "       'occupation_Writer'],\n",
       "      dtype='object')"
      ]
     },
     "execution_count": 14,
     "metadata": {},
     "output_type": "execute_result"
    }
   ],
   "source": [
    "df_encoded.columns"
   ]
  },
  {
   "cell_type": "code",
   "execution_count": 15,
   "id": "2e1c78e5",
   "metadata": {
    "execution": {
     "iopub.execute_input": "2024-07-29T15:41:50.877849Z",
     "iopub.status.busy": "2024-07-29T15:41:50.877580Z",
     "iopub.status.idle": "2024-07-29T15:41:50.883609Z",
     "shell.execute_reply": "2024-07-29T15:41:50.882653Z"
    },
    "papermill": {
     "duration": 0.021857,
     "end_time": "2024-07-29T15:41:50.885433",
     "exception": false,
     "start_time": "2024-07-29T15:41:50.863576",
     "status": "completed"
    },
    "tags": []
   },
   "outputs": [],
   "source": [
    "y_pred = clf.predict(X_test)"
   ]
  },
  {
   "cell_type": "code",
   "execution_count": 16,
   "id": "56697cfe",
   "metadata": {
    "execution": {
     "iopub.execute_input": "2024-07-29T15:41:50.912308Z",
     "iopub.status.busy": "2024-07-29T15:41:50.912046Z",
     "iopub.status.idle": "2024-07-29T15:41:50.922073Z",
     "shell.execute_reply": "2024-07-29T15:41:50.921275Z"
    },
    "papermill": {
     "duration": 0.025634,
     "end_time": "2024-07-29T15:41:50.924059",
     "exception": false,
     "start_time": "2024-07-29T15:41:50.898425",
     "status": "completed"
    },
    "tags": []
   },
   "outputs": [
    {
     "data": {
      "text/html": [
       "<div>\n",
       "<style scoped>\n",
       "    .dataframe tbody tr th:only-of-type {\n",
       "        vertical-align: middle;\n",
       "    }\n",
       "\n",
       "    .dataframe tbody tr th {\n",
       "        vertical-align: top;\n",
       "    }\n",
       "\n",
       "    .dataframe thead th {\n",
       "        text-align: right;\n",
       "    }\n",
       "</style>\n",
       "<table border=\"1\" class=\"dataframe\">\n",
       "  <thead>\n",
       "    <tr style=\"text-align: right;\">\n",
       "      <th></th>\n",
       "      <th>Predicted</th>\n",
       "      <th>Actual</th>\n",
       "    </tr>\n",
       "  </thead>\n",
       "  <tbody>\n",
       "    <tr>\n",
       "      <th>0</th>\n",
       "      <td>Approved</td>\n",
       "      <td>Approved</td>\n",
       "    </tr>\n",
       "    <tr>\n",
       "      <th>1</th>\n",
       "      <td>Approved</td>\n",
       "      <td>Approved</td>\n",
       "    </tr>\n",
       "    <tr>\n",
       "      <th>2</th>\n",
       "      <td>Denied</td>\n",
       "      <td>Denied</td>\n",
       "    </tr>\n",
       "    <tr>\n",
       "      <th>3</th>\n",
       "      <td>Approved</td>\n",
       "      <td>Approved</td>\n",
       "    </tr>\n",
       "    <tr>\n",
       "      <th>4</th>\n",
       "      <td>Approved</td>\n",
       "      <td>Approved</td>\n",
       "    </tr>\n",
       "    <tr>\n",
       "      <th>...</th>\n",
       "      <td>...</td>\n",
       "      <td>...</td>\n",
       "    </tr>\n",
       "    <tr>\n",
       "      <th>56</th>\n",
       "      <td>Approved</td>\n",
       "      <td>Approved</td>\n",
       "    </tr>\n",
       "    <tr>\n",
       "      <th>57</th>\n",
       "      <td>Denied</td>\n",
       "      <td>Denied</td>\n",
       "    </tr>\n",
       "    <tr>\n",
       "      <th>58</th>\n",
       "      <td>Approved</td>\n",
       "      <td>Approved</td>\n",
       "    </tr>\n",
       "    <tr>\n",
       "      <th>59</th>\n",
       "      <td>Approved</td>\n",
       "      <td>Approved</td>\n",
       "    </tr>\n",
       "    <tr>\n",
       "      <th>60</th>\n",
       "      <td>Approved</td>\n",
       "      <td>Approved</td>\n",
       "    </tr>\n",
       "  </tbody>\n",
       "</table>\n",
       "<p>61 rows × 2 columns</p>\n",
       "</div>"
      ],
      "text/plain": [
       "   Predicted    Actual\n",
       "0   Approved  Approved\n",
       "1   Approved  Approved\n",
       "2     Denied    Denied\n",
       "3   Approved  Approved\n",
       "4   Approved  Approved\n",
       "..       ...       ...\n",
       "56  Approved  Approved\n",
       "57    Denied    Denied\n",
       "58  Approved  Approved\n",
       "59  Approved  Approved\n",
       "60  Approved  Approved\n",
       "\n",
       "[61 rows x 2 columns]"
      ]
     },
     "execution_count": 16,
     "metadata": {},
     "output_type": "execute_result"
    }
   ],
   "source": [
    "results = pd.DataFrame({\n",
    "    'Predicted': y_pred,\n",
    "    'Actual': y_test\n",
    "})\n",
    "\n",
    "results"
   ]
  },
  {
   "cell_type": "markdown",
   "id": "6b1eb06d",
   "metadata": {
    "papermill": {
     "duration": 0.013028,
     "end_time": "2024-07-29T15:41:50.950197",
     "exception": false,
     "start_time": "2024-07-29T15:41:50.937169",
     "status": "completed"
    },
    "tags": []
   },
   "source": [
    "**Performance Metrics**"
   ]
  },
  {
   "cell_type": "code",
   "execution_count": 17,
   "id": "03be6455",
   "metadata": {
    "execution": {
     "iopub.execute_input": "2024-07-29T15:41:50.977074Z",
     "iopub.status.busy": "2024-07-29T15:41:50.976825Z",
     "iopub.status.idle": "2024-07-29T15:41:50.984171Z",
     "shell.execute_reply": "2024-07-29T15:41:50.983319Z"
    },
    "papermill": {
     "duration": 0.023002,
     "end_time": "2024-07-29T15:41:50.986150",
     "exception": false,
     "start_time": "2024-07-29T15:41:50.963148",
     "status": "completed"
    },
    "tags": []
   },
   "outputs": [
    {
     "data": {
      "text/plain": [
       "array([[45,  0],\n",
       "       [ 0, 16]])"
      ]
     },
     "execution_count": 17,
     "metadata": {},
     "output_type": "execute_result"
    }
   ],
   "source": [
    "from sklearn.metrics import confusion_matrix\n",
    "\n",
    "conf_matrix = confusion_matrix(y_test, y_pred)\n",
    "conf_matrix"
   ]
  },
  {
   "cell_type": "code",
   "execution_count": 18,
   "id": "47224a0e",
   "metadata": {
    "execution": {
     "iopub.execute_input": "2024-07-29T15:41:51.013607Z",
     "iopub.status.busy": "2024-07-29T15:41:51.013111Z",
     "iopub.status.idle": "2024-07-29T15:41:51.027103Z",
     "shell.execute_reply": "2024-07-29T15:41:51.026072Z"
    },
    "papermill": {
     "duration": 0.029792,
     "end_time": "2024-07-29T15:41:51.029030",
     "exception": false,
     "start_time": "2024-07-29T15:41:50.999238",
     "status": "completed"
    },
    "tags": []
   },
   "outputs": [
    {
     "name": "stdout",
     "output_type": "stream",
     "text": [
      "              precision    recall  f1-score   support\n",
      "\n",
      "    Approved       1.00      1.00      1.00        45\n",
      "      Denied       1.00      1.00      1.00        16\n",
      "\n",
      "    accuracy                           1.00        61\n",
      "   macro avg       1.00      1.00      1.00        61\n",
      "weighted avg       1.00      1.00      1.00        61\n",
      "\n"
     ]
    }
   ],
   "source": [
    "from sklearn.metrics import classification_report\n",
    "\n",
    "report = classification_report(y_test, y_pred)\n",
    "print(report)"
   ]
  },
  {
   "cell_type": "markdown",
   "id": "9131b0ec",
   "metadata": {
    "papermill": {
     "duration": 0.012968,
     "end_time": "2024-07-29T15:41:51.055080",
     "exception": false,
     "start_time": "2024-07-29T15:41:51.042112",
     "status": "completed"
    },
    "tags": []
   },
   "source": [
    "Now,according to the classification report above,the model turns out to be 100% accurate which seems quite weird. This leads us to the problem of overfitting which is quite common incase of Decision Trees. \n",
    "\n",
    "Hence,now we will train our model on fewer features and we will select those features based on the `Feature Engineering` we had performed earlier."
   ]
  },
  {
   "cell_type": "markdown",
   "id": "a28cdc09",
   "metadata": {
    "papermill": {
     "duration": 0.013448,
     "end_time": "2024-07-29T15:41:51.081950",
     "exception": false,
     "start_time": "2024-07-29T15:41:51.068502",
     "status": "completed"
    },
    "tags": []
   },
   "source": [
    "# Training the model with selective features"
   ]
  },
  {
   "cell_type": "code",
   "execution_count": 19,
   "id": "67af4e20",
   "metadata": {
    "execution": {
     "iopub.execute_input": "2024-07-29T15:41:51.110851Z",
     "iopub.status.busy": "2024-07-29T15:41:51.110008Z",
     "iopub.status.idle": "2024-07-29T15:41:51.123334Z",
     "shell.execute_reply": "2024-07-29T15:41:51.122467Z"
    },
    "papermill": {
     "duration": 0.029798,
     "end_time": "2024-07-29T15:41:51.125314",
     "exception": false,
     "start_time": "2024-07-29T15:41:51.095516",
     "status": "completed"
    },
    "tags": []
   },
   "outputs": [
    {
     "data": {
      "text/html": [
       "<div>\n",
       "<style scoped>\n",
       "    .dataframe tbody tr th:only-of-type {\n",
       "        vertical-align: middle;\n",
       "    }\n",
       "\n",
       "    .dataframe tbody tr th {\n",
       "        vertical-align: top;\n",
       "    }\n",
       "\n",
       "    .dataframe thead th {\n",
       "        text-align: right;\n",
       "    }\n",
       "</style>\n",
       "<table border=\"1\" class=\"dataframe\">\n",
       "  <thead>\n",
       "    <tr style=\"text-align: right;\">\n",
       "      <th></th>\n",
       "      <th>age</th>\n",
       "      <th>marital_status</th>\n",
       "      <th>income</th>\n",
       "      <th>credit_score</th>\n",
       "      <th>loan_status</th>\n",
       "    </tr>\n",
       "  </thead>\n",
       "  <tbody>\n",
       "    <tr>\n",
       "      <th>0</th>\n",
       "      <td>32</td>\n",
       "      <td>Married</td>\n",
       "      <td>85000</td>\n",
       "      <td>720</td>\n",
       "      <td>Approved</td>\n",
       "    </tr>\n",
       "    <tr>\n",
       "      <th>1</th>\n",
       "      <td>45</td>\n",
       "      <td>Single</td>\n",
       "      <td>62000</td>\n",
       "      <td>680</td>\n",
       "      <td>Approved</td>\n",
       "    </tr>\n",
       "    <tr>\n",
       "      <th>2</th>\n",
       "      <td>28</td>\n",
       "      <td>Single</td>\n",
       "      <td>25000</td>\n",
       "      <td>590</td>\n",
       "      <td>Denied</td>\n",
       "    </tr>\n",
       "    <tr>\n",
       "      <th>3</th>\n",
       "      <td>51</td>\n",
       "      <td>Married</td>\n",
       "      <td>105000</td>\n",
       "      <td>780</td>\n",
       "      <td>Approved</td>\n",
       "    </tr>\n",
       "    <tr>\n",
       "      <th>4</th>\n",
       "      <td>36</td>\n",
       "      <td>Married</td>\n",
       "      <td>75000</td>\n",
       "      <td>710</td>\n",
       "      <td>Approved</td>\n",
       "    </tr>\n",
       "    <tr>\n",
       "      <th>...</th>\n",
       "      <td>...</td>\n",
       "      <td>...</td>\n",
       "      <td>...</td>\n",
       "      <td>...</td>\n",
       "      <td>...</td>\n",
       "    </tr>\n",
       "    <tr>\n",
       "      <th>56</th>\n",
       "      <td>39</td>\n",
       "      <td>Married</td>\n",
       "      <td>100000</td>\n",
       "      <td>770</td>\n",
       "      <td>Approved</td>\n",
       "    </tr>\n",
       "    <tr>\n",
       "      <th>57</th>\n",
       "      <td>25</td>\n",
       "      <td>Single</td>\n",
       "      <td>32000</td>\n",
       "      <td>570</td>\n",
       "      <td>Denied</td>\n",
       "    </tr>\n",
       "    <tr>\n",
       "      <th>58</th>\n",
       "      <td>43</td>\n",
       "      <td>Married</td>\n",
       "      <td>95000</td>\n",
       "      <td>760</td>\n",
       "      <td>Approved</td>\n",
       "    </tr>\n",
       "    <tr>\n",
       "      <th>59</th>\n",
       "      <td>30</td>\n",
       "      <td>Single</td>\n",
       "      <td>55000</td>\n",
       "      <td>650</td>\n",
       "      <td>Approved</td>\n",
       "    </tr>\n",
       "    <tr>\n",
       "      <th>60</th>\n",
       "      <td>38</td>\n",
       "      <td>Married</td>\n",
       "      <td>65000</td>\n",
       "      <td>700</td>\n",
       "      <td>Approved</td>\n",
       "    </tr>\n",
       "  </tbody>\n",
       "</table>\n",
       "<p>61 rows × 5 columns</p>\n",
       "</div>"
      ],
      "text/plain": [
       "    age marital_status  income  credit_score loan_status\n",
       "0    32        Married   85000           720    Approved\n",
       "1    45         Single   62000           680    Approved\n",
       "2    28         Single   25000           590      Denied\n",
       "3    51        Married  105000           780    Approved\n",
       "4    36        Married   75000           710    Approved\n",
       "..  ...            ...     ...           ...         ...\n",
       "56   39        Married  100000           770    Approved\n",
       "57   25         Single   32000           570      Denied\n",
       "58   43        Married   95000           760    Approved\n",
       "59   30         Single   55000           650    Approved\n",
       "60   38        Married   65000           700    Approved\n",
       "\n",
       "[61 rows x 5 columns]"
      ]
     },
     "execution_count": 19,
     "metadata": {},
     "output_type": "execute_result"
    }
   ],
   "source": [
    "loan_test = loan.drop(columns =['education_level', 'gender', 'occupation'])\n",
    "loan_test\n"
   ]
  },
  {
   "cell_type": "code",
   "execution_count": 20,
   "id": "4c5be988",
   "metadata": {
    "execution": {
     "iopub.execute_input": "2024-07-29T15:41:51.154452Z",
     "iopub.status.busy": "2024-07-29T15:41:51.154138Z",
     "iopub.status.idle": "2024-07-29T15:41:51.168121Z",
     "shell.execute_reply": "2024-07-29T15:41:51.167271Z"
    },
    "papermill": {
     "duration": 0.030878,
     "end_time": "2024-07-29T15:41:51.170148",
     "exception": false,
     "start_time": "2024-07-29T15:41:51.139270",
     "status": "completed"
    },
    "tags": []
   },
   "outputs": [
    {
     "data": {
      "text/html": [
       "<div>\n",
       "<style scoped>\n",
       "    .dataframe tbody tr th:only-of-type {\n",
       "        vertical-align: middle;\n",
       "    }\n",
       "\n",
       "    .dataframe tbody tr th {\n",
       "        vertical-align: top;\n",
       "    }\n",
       "\n",
       "    .dataframe thead th {\n",
       "        text-align: right;\n",
       "    }\n",
       "</style>\n",
       "<table border=\"1\" class=\"dataframe\">\n",
       "  <thead>\n",
       "    <tr style=\"text-align: right;\">\n",
       "      <th></th>\n",
       "      <th>age</th>\n",
       "      <th>income</th>\n",
       "      <th>credit_score</th>\n",
       "      <th>loan_status</th>\n",
       "      <th>marital_status_Married</th>\n",
       "      <th>marital_status_Single</th>\n",
       "    </tr>\n",
       "  </thead>\n",
       "  <tbody>\n",
       "    <tr>\n",
       "      <th>0</th>\n",
       "      <td>32</td>\n",
       "      <td>85000</td>\n",
       "      <td>720</td>\n",
       "      <td>Approved</td>\n",
       "      <td>1</td>\n",
       "      <td>0</td>\n",
       "    </tr>\n",
       "    <tr>\n",
       "      <th>1</th>\n",
       "      <td>45</td>\n",
       "      <td>62000</td>\n",
       "      <td>680</td>\n",
       "      <td>Approved</td>\n",
       "      <td>0</td>\n",
       "      <td>1</td>\n",
       "    </tr>\n",
       "    <tr>\n",
       "      <th>2</th>\n",
       "      <td>28</td>\n",
       "      <td>25000</td>\n",
       "      <td>590</td>\n",
       "      <td>Denied</td>\n",
       "      <td>0</td>\n",
       "      <td>1</td>\n",
       "    </tr>\n",
       "    <tr>\n",
       "      <th>3</th>\n",
       "      <td>51</td>\n",
       "      <td>105000</td>\n",
       "      <td>780</td>\n",
       "      <td>Approved</td>\n",
       "      <td>1</td>\n",
       "      <td>0</td>\n",
       "    </tr>\n",
       "    <tr>\n",
       "      <th>4</th>\n",
       "      <td>36</td>\n",
       "      <td>75000</td>\n",
       "      <td>710</td>\n",
       "      <td>Approved</td>\n",
       "      <td>1</td>\n",
       "      <td>0</td>\n",
       "    </tr>\n",
       "    <tr>\n",
       "      <th>...</th>\n",
       "      <td>...</td>\n",
       "      <td>...</td>\n",
       "      <td>...</td>\n",
       "      <td>...</td>\n",
       "      <td>...</td>\n",
       "      <td>...</td>\n",
       "    </tr>\n",
       "    <tr>\n",
       "      <th>56</th>\n",
       "      <td>39</td>\n",
       "      <td>100000</td>\n",
       "      <td>770</td>\n",
       "      <td>Approved</td>\n",
       "      <td>1</td>\n",
       "      <td>0</td>\n",
       "    </tr>\n",
       "    <tr>\n",
       "      <th>57</th>\n",
       "      <td>25</td>\n",
       "      <td>32000</td>\n",
       "      <td>570</td>\n",
       "      <td>Denied</td>\n",
       "      <td>0</td>\n",
       "      <td>1</td>\n",
       "    </tr>\n",
       "    <tr>\n",
       "      <th>58</th>\n",
       "      <td>43</td>\n",
       "      <td>95000</td>\n",
       "      <td>760</td>\n",
       "      <td>Approved</td>\n",
       "      <td>1</td>\n",
       "      <td>0</td>\n",
       "    </tr>\n",
       "    <tr>\n",
       "      <th>59</th>\n",
       "      <td>30</td>\n",
       "      <td>55000</td>\n",
       "      <td>650</td>\n",
       "      <td>Approved</td>\n",
       "      <td>0</td>\n",
       "      <td>1</td>\n",
       "    </tr>\n",
       "    <tr>\n",
       "      <th>60</th>\n",
       "      <td>38</td>\n",
       "      <td>65000</td>\n",
       "      <td>700</td>\n",
       "      <td>Approved</td>\n",
       "      <td>1</td>\n",
       "      <td>0</td>\n",
       "    </tr>\n",
       "  </tbody>\n",
       "</table>\n",
       "<p>61 rows × 6 columns</p>\n",
       "</div>"
      ],
      "text/plain": [
       "    age  income  credit_score loan_status  marital_status_Married  \\\n",
       "0    32   85000           720    Approved                       1   \n",
       "1    45   62000           680    Approved                       0   \n",
       "2    28   25000           590      Denied                       0   \n",
       "3    51  105000           780    Approved                       1   \n",
       "4    36   75000           710    Approved                       1   \n",
       "..  ...     ...           ...         ...                     ...   \n",
       "56   39  100000           770    Approved                       1   \n",
       "57   25   32000           570      Denied                       0   \n",
       "58   43   95000           760    Approved                       1   \n",
       "59   30   55000           650    Approved                       0   \n",
       "60   38   65000           700    Approved                       1   \n",
       "\n",
       "    marital_status_Single  \n",
       "0                       0  \n",
       "1                       1  \n",
       "2                       1  \n",
       "3                       0  \n",
       "4                       0  \n",
       "..                    ...  \n",
       "56                      0  \n",
       "57                      1  \n",
       "58                      0  \n",
       "59                      1  \n",
       "60                      0  \n",
       "\n",
       "[61 rows x 6 columns]"
      ]
     },
     "execution_count": 20,
     "metadata": {},
     "output_type": "execute_result"
    }
   ],
   "source": [
    "loan_test_encoded = pd.get_dummies(loan_test, columns=['marital_status'], dtype = int)\n",
    "loan_test_encoded"
   ]
  },
  {
   "cell_type": "code",
   "execution_count": 21,
   "id": "da2a07db",
   "metadata": {
    "execution": {
     "iopub.execute_input": "2024-07-29T15:41:51.200849Z",
     "iopub.status.busy": "2024-07-29T15:41:51.200100Z",
     "iopub.status.idle": "2024-07-29T15:41:51.209423Z",
     "shell.execute_reply": "2024-07-29T15:41:51.208665Z"
    },
    "papermill": {
     "duration": 0.026501,
     "end_time": "2024-07-29T15:41:51.211364",
     "exception": false,
     "start_time": "2024-07-29T15:41:51.184863",
     "status": "completed"
    },
    "tags": []
   },
   "outputs": [],
   "source": [
    "a = loan_test_encoded.drop('loan_status', axis = 1)\n",
    "b = loan_test_encoded['loan_status']\n",
    "\n",
    "a_train, b_test, b_train, a_test = train_test_split(a, b, test_size=.2, random_state=42)\n",
    " \n",
    "new_clf = DecisionTreeClassifier(criterion='gini',max_depth = 3, min_samples_leaf=4 )\n",
    "new_clf = new_clf.fit(a_train, b_train)\n"
   ]
  },
  {
   "cell_type": "code",
   "execution_count": 22,
   "id": "7d8da09b",
   "metadata": {
    "execution": {
     "iopub.execute_input": "2024-07-29T15:41:51.240873Z",
     "iopub.status.busy": "2024-07-29T15:41:51.240595Z",
     "iopub.status.idle": "2024-07-29T15:41:51.478403Z",
     "shell.execute_reply": "2024-07-29T15:41:51.477231Z"
    },
    "papermill": {
     "duration": 0.257036,
     "end_time": "2024-07-29T15:41:51.482870",
     "exception": false,
     "start_time": "2024-07-29T15:41:51.225834",
     "status": "completed"
    },
    "tags": []
   },
   "outputs": [
    {
     "data": {
      "image/png": "[encoded data removed]",
      "text/plain": [
       "<Figure size 2000x1000 with 1 Axes>"
      ]
     },
     "metadata": {},
     "output_type": "display_data"
    }
   ],
   "source": [
    "def plot_decision_tree(model, feature_names, class_names):\n",
    "    tree = plot_tree(model, feature_names = feature_names, class_names = class_names,\n",
    "                     rounded = True, proportion = True, precision = 2, filled = True, fontsize=10)\n",
    "    \n",
    "    return tree\n",
    "\n",
    "plt.figure(figsize=(20,10))\n",
    "plot_decision_tree(new_clf, a.columns, new_clf.classes_)\n",
    "plt.show()"
   ]
  },
  {
   "cell_type": "markdown",
   "id": "5f9e6f12",
   "metadata": {
    "papermill": {
     "duration": 0.015908,
     "end_time": "2024-07-29T15:41:51.513945",
     "exception": false,
     "start_time": "2024-07-29T15:41:51.498037",
     "status": "completed"
    },
    "tags": []
   },
   "source": [
    "Here, `credit_score` is the root-node of the tree, but when we had trained the model on the entire dataset, the feature `income` was present at the top. This clearly indicates that feature importance has helped us to prevent the problem of `overfitting` to some extent."
   ]
  },
  {
   "cell_type": "code",
   "execution_count": 23,
   "id": "1ff11598",
   "metadata": {
    "execution": {
     "iopub.execute_input": "2024-07-29T15:41:51.586983Z",
     "iopub.status.busy": "2024-07-29T15:41:51.586342Z",
     "iopub.status.idle": "2024-07-29T15:41:51.591795Z",
     "shell.execute_reply": "2024-07-29T15:41:51.590924Z"
    },
    "papermill": {
     "duration": 0.023408,
     "end_time": "2024-07-29T15:41:51.593896",
     "exception": false,
     "start_time": "2024-07-29T15:41:51.570488",
     "status": "completed"
    },
    "tags": []
   },
   "outputs": [],
   "source": [
    "a_test = loan_test_encoded.drop('loan_status', axis=1)\n",
    "b_test = loan_test_encoded.loan_status"
   ]
  },
  {
   "cell_type": "code",
   "execution_count": 24,
   "id": "a69da2a8",
   "metadata": {
    "execution": {
     "iopub.execute_input": "2024-07-29T15:41:51.624606Z",
     "iopub.status.busy": "2024-07-29T15:41:51.624338Z",
     "iopub.status.idle": "2024-07-29T15:41:51.630124Z",
     "shell.execute_reply": "2024-07-29T15:41:51.629266Z"
    },
    "papermill": {
     "duration": 0.023254,
     "end_time": "2024-07-29T15:41:51.632094",
     "exception": false,
     "start_time": "2024-07-29T15:41:51.608840",
     "status": "completed"
    },
    "tags": []
   },
   "outputs": [],
   "source": [
    "b_pred = new_clf.predict(a_test)"
   ]
  },
  {
   "cell_type": "code",
   "execution_count": 25,
   "id": "61dc8b44",
   "metadata": {
    "execution": {
     "iopub.execute_input": "2024-07-29T15:41:51.662954Z",
     "iopub.status.busy": "2024-07-29T15:41:51.662712Z",
     "iopub.status.idle": "2024-07-29T15:41:51.673322Z",
     "shell.execute_reply": "2024-07-29T15:41:51.672512Z"
    },
    "papermill": {
     "duration": 0.028335,
     "end_time": "2024-07-29T15:41:51.675209",
     "exception": false,
     "start_time": "2024-07-29T15:41:51.646874",
     "status": "completed"
    },
    "tags": []
   },
   "outputs": [
    {
     "data": {
      "text/html": [
       "<div>\n",
       "<style scoped>\n",
       "    .dataframe tbody tr th:only-of-type {\n",
       "        vertical-align: middle;\n",
       "    }\n",
       "\n",
       "    .dataframe tbody tr th {\n",
       "        vertical-align: top;\n",
       "    }\n",
       "\n",
       "    .dataframe thead th {\n",
       "        text-align: right;\n",
       "    }\n",
       "</style>\n",
       "<table border=\"1\" class=\"dataframe\">\n",
       "  <thead>\n",
       "    <tr style=\"text-align: right;\">\n",
       "      <th></th>\n",
       "      <th>Predicted</th>\n",
       "      <th>Actual</th>\n",
       "    </tr>\n",
       "  </thead>\n",
       "  <tbody>\n",
       "    <tr>\n",
       "      <th>0</th>\n",
       "      <td>Approved</td>\n",
       "      <td>Approved</td>\n",
       "    </tr>\n",
       "    <tr>\n",
       "      <th>1</th>\n",
       "      <td>Approved</td>\n",
       "      <td>Approved</td>\n",
       "    </tr>\n",
       "    <tr>\n",
       "      <th>2</th>\n",
       "      <td>Denied</td>\n",
       "      <td>Denied</td>\n",
       "    </tr>\n",
       "    <tr>\n",
       "      <th>3</th>\n",
       "      <td>Approved</td>\n",
       "      <td>Approved</td>\n",
       "    </tr>\n",
       "    <tr>\n",
       "      <th>4</th>\n",
       "      <td>Approved</td>\n",
       "      <td>Approved</td>\n",
       "    </tr>\n",
       "    <tr>\n",
       "      <th>...</th>\n",
       "      <td>...</td>\n",
       "      <td>...</td>\n",
       "    </tr>\n",
       "    <tr>\n",
       "      <th>56</th>\n",
       "      <td>Approved</td>\n",
       "      <td>Approved</td>\n",
       "    </tr>\n",
       "    <tr>\n",
       "      <th>57</th>\n",
       "      <td>Denied</td>\n",
       "      <td>Denied</td>\n",
       "    </tr>\n",
       "    <tr>\n",
       "      <th>58</th>\n",
       "      <td>Approved</td>\n",
       "      <td>Approved</td>\n",
       "    </tr>\n",
       "    <tr>\n",
       "      <th>59</th>\n",
       "      <td>Denied</td>\n",
       "      <td>Approved</td>\n",
       "    </tr>\n",
       "    <tr>\n",
       "      <th>60</th>\n",
       "      <td>Approved</td>\n",
       "      <td>Approved</td>\n",
       "    </tr>\n",
       "  </tbody>\n",
       "</table>\n",
       "<p>61 rows × 2 columns</p>\n",
       "</div>"
      ],
      "text/plain": [
       "   Predicted    Actual\n",
       "0   Approved  Approved\n",
       "1   Approved  Approved\n",
       "2     Denied    Denied\n",
       "3   Approved  Approved\n",
       "4   Approved  Approved\n",
       "..       ...       ...\n",
       "56  Approved  Approved\n",
       "57    Denied    Denied\n",
       "58  Approved  Approved\n",
       "59    Denied  Approved\n",
       "60  Approved  Approved\n",
       "\n",
       "[61 rows x 2 columns]"
      ]
     },
     "execution_count": 25,
     "metadata": {},
     "output_type": "execute_result"
    }
   ],
   "source": [
    "new_results = pd.DataFrame({\n",
    "    'Predicted': b_pred,\n",
    "    'Actual': b_test\n",
    "})\n",
    "\n",
    "new_results"
   ]
  },
  {
   "cell_type": "code",
   "execution_count": 26,
   "id": "494ce25f",
   "metadata": {
    "execution": {
     "iopub.execute_input": "2024-07-29T15:41:51.706478Z",
     "iopub.status.busy": "2024-07-29T15:41:51.706169Z",
     "iopub.status.idle": "2024-07-29T15:41:51.713655Z",
     "shell.execute_reply": "2024-07-29T15:41:51.712918Z"
    },
    "papermill": {
     "duration": 0.025316,
     "end_time": "2024-07-29T15:41:51.715729",
     "exception": false,
     "start_time": "2024-07-29T15:41:51.690413",
     "status": "completed"
    },
    "tags": []
   },
   "outputs": [
    {
     "data": {
      "text/plain": [
       "array([[44,  1],\n",
       "       [ 0, 16]])"
      ]
     },
     "execution_count": 26,
     "metadata": {},
     "output_type": "execute_result"
    }
   ],
   "source": [
    "from sklearn.metrics import confusion_matrix\n",
    "\n",
    "conf_matrix = confusion_matrix(b_test, b_pred)\n",
    "conf_matrix"
   ]
  },
  {
   "cell_type": "code",
   "execution_count": 27,
   "id": "5c850e41",
   "metadata": {
    "execution": {
     "iopub.execute_input": "2024-07-29T15:41:51.747669Z",
     "iopub.status.busy": "2024-07-29T15:41:51.747341Z",
     "iopub.status.idle": "2024-07-29T15:41:51.761863Z",
     "shell.execute_reply": "2024-07-29T15:41:51.760749Z"
    },
    "papermill": {
     "duration": 0.032679,
     "end_time": "2024-07-29T15:41:51.763824",
     "exception": false,
     "start_time": "2024-07-29T15:41:51.731145",
     "status": "completed"
    },
    "tags": []
   },
   "outputs": [
    {
     "name": "stdout",
     "output_type": "stream",
     "text": [
      "              precision    recall  f1-score   support\n",
      "\n",
      "    Approved       1.00      0.98      0.99        45\n",
      "      Denied       0.94      1.00      0.97        16\n",
      "\n",
      "    accuracy                           0.98        61\n",
      "   macro avg       0.97      0.99      0.98        61\n",
      "weighted avg       0.98      0.98      0.98        61\n",
      "\n"
     ]
    }
   ],
   "source": [
    "from sklearn.metrics import classification_report\n",
    "\n",
    "report = classification_report(b_test, b_pred)\n",
    "print(report)"
   ]
  },
  {
   "cell_type": "markdown",
   "id": "3219f0c5",
   "metadata": {
    "papermill": {
     "duration": 0.01513,
     "end_time": "2024-07-29T15:41:51.794619",
     "exception": false,
     "start_time": "2024-07-29T15:41:51.779489",
     "status": "completed"
    },
    "tags": []
   },
   "source": [
    "We can see that now the metrics values have changed, and the model is not exactly 100% accurate.\n",
    "While this might still not be the most accurate analysis of the Decision Tree model but it helps us understand how certain features can affect the results of a model."
   ]
  },
  {
   "cell_type": "markdown",
   "id": "75374c12",
   "metadata": {
    "papermill": {
     "duration": 0.015093,
     "end_time": "2024-07-29T15:41:51.824966",
     "exception": false,
     "start_time": "2024-07-29T15:41:51.809873",
     "status": "completed"
    },
    "tags": []
   },
   "source": [
    "**Do share your comments and suggestions, and if this notebook was helpful,don't forget to upvote.** Thank you!"
   ]
  }
 ],
 "metadata": {
  "kaggle": {
   "accelerator": "none",
   "dataSources": [
    {
     "datasetId": 4839442,
     "sourceId": 8175684,
     "sourceType": "datasetVersion"
    }
   ],
   "dockerImageVersionId": 30746,
   "isGpuEnabled": false,
   "isInternetEnabled": false,
   "language": "python",
   "sourceType": "notebook"
  },
  "kernelspec": {
   "display_name": "Python 3",
   "language": "python",
   "name": "python3"
  },
  "language_info": {
   "codemirror_mode": {
    "name": "ipython",
    "version": 3
   },
   "file_extension": ".py",
   "mimetype": "text/x-python",
   "name": "python",
   "nbconvert_exporter": "python",
   "pygments_lexer": "ipython3",
   "version": "3.10.13"
  },
  "papermill": {
   "default_parameters": {},
   "duration": 7.551221,
   "end_time": "2024-07-29T15:41:52.361035",
   "environment_variables": {},
   "exception": null,
   "input_path": "__notebook__.ipynb",
   "output_path": "__notebook__.ipynb",
   "parameters": {},
   "start_time": "2024-07-29T15:41:44.809814",
   "version": "2.5.0"
  }
 },
 "nbformat": 4,
 "nbformat_minor": 5
}
